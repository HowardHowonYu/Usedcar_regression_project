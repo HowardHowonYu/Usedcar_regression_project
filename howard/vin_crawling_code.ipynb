{
 "cells": [
  {
   "cell_type": "markdown",
   "metadata": {},
   "source": [
    "### 데이터 불러오시고"
   ]
  },
  {
   "cell_type": "code",
   "execution_count": 5,
   "metadata": {},
   "outputs": [],
   "source": [
    "raw_data = pd.read_csv(\"vehicles.csv\")"
   ]
  },
  {
   "cell_type": "markdown",
   "metadata": {},
   "source": [
    "### 쓸 컬럼들만 지정해주신뒤에 "
   ]
  },
  {
   "cell_type": "code",
   "execution_count": 6,
   "metadata": {},
   "outputs": [],
   "source": [
    "start_df = raw_data[['id','price','year','odometer','drive','fuel','manufacturer','state','title_status','transmission','type','paint_color','cylinders','model','vin']]"
   ]
  },
  {
   "cell_type": "markdown",
   "metadata": {},
   "source": [
    "### 결측치를 날리고, 'vin'이 중복되는 값들을 제거하면"
   ]
  },
  {
   "cell_type": "code",
   "execution_count": 12,
   "metadata": {},
   "outputs": [
    {
     "data": {
      "text/plain": [
       "(77339, 15)"
      ]
     },
     "execution_count": 12,
     "metadata": {},
     "output_type": "execute_result"
    }
   ],
   "source": [
    "start_df = start_df.dropna(axis=0)\n",
    "df = start_df.loc[start_df['vin'].drop_duplicates(keep='last').index]\n",
    "df.shape"
   ]
  },
  {
   "cell_type": "markdown",
   "metadata": {},
   "source": [
    "### 77339개 row가 됩니다."
   ]
  },
  {
   "cell_type": "markdown",
   "metadata": {},
   "source": [
    "- 혹시 몰라서 head, tail 찍어봤습니다. 혹시 순서가 다르게 들어가거나 하실수 있으니 한번씩 확인해 주세요.\n",
    "- 제가 찍어둔거 말고 새로 찍어보셔서 비교해보시는 쪽으로 활용해 보세요!"
   ]
  },
  {
   "cell_type": "code",
   "execution_count": 21,
   "metadata": {},
   "outputs": [
    {
     "data": {
      "text/html": [
       "<div>\n",
       "<style scoped>\n",
       "    .dataframe tbody tr th:only-of-type {\n",
       "        vertical-align: middle;\n",
       "    }\n",
       "\n",
       "    .dataframe tbody tr th {\n",
       "        vertical-align: top;\n",
       "    }\n",
       "\n",
       "    .dataframe thead th {\n",
       "        text-align: right;\n",
       "    }\n",
       "</style>\n",
       "<table border=\"1\" class=\"dataframe\">\n",
       "  <thead>\n",
       "    <tr style=\"text-align: right;\">\n",
       "      <th></th>\n",
       "      <th>id</th>\n",
       "      <th>price</th>\n",
       "      <th>year</th>\n",
       "      <th>odometer</th>\n",
       "      <th>drive</th>\n",
       "      <th>fuel</th>\n",
       "      <th>manufacturer</th>\n",
       "      <th>state</th>\n",
       "      <th>title_status</th>\n",
       "      <th>transmission</th>\n",
       "      <th>type</th>\n",
       "      <th>paint_color</th>\n",
       "      <th>cylinders</th>\n",
       "      <th>model</th>\n",
       "      <th>vin</th>\n",
       "    </tr>\n",
       "  </thead>\n",
       "  <tbody>\n",
       "    <tr>\n",
       "      <td>509547</td>\n",
       "      <td>7035259793</td>\n",
       "      <td>33895</td>\n",
       "      <td>2016.0</td>\n",
       "      <td>49698.0</td>\n",
       "      <td>4wd</td>\n",
       "      <td>gas</td>\n",
       "      <td>ford</td>\n",
       "      <td>ut</td>\n",
       "      <td>clean</td>\n",
       "      <td>automatic</td>\n",
       "      <td>truck</td>\n",
       "      <td>blue</td>\n",
       "      <td>6 cylinders</td>\n",
       "      <td>f-150</td>\n",
       "      <td>1FTFW1EG9GFA33106</td>\n",
       "    </tr>\n",
       "    <tr>\n",
       "      <td>509548</td>\n",
       "      <td>7035257184</td>\n",
       "      <td>6500</td>\n",
       "      <td>2008.0</td>\n",
       "      <td>195000.0</td>\n",
       "      <td>rwd</td>\n",
       "      <td>gas</td>\n",
       "      <td>chevrolet</td>\n",
       "      <td>ut</td>\n",
       "      <td>clean</td>\n",
       "      <td>automatic</td>\n",
       "      <td>van</td>\n",
       "      <td>white</td>\n",
       "      <td>8 cylinders</td>\n",
       "      <td>express 3500</td>\n",
       "      <td>1GAHG39K981133844</td>\n",
       "    </tr>\n",
       "    <tr>\n",
       "      <td>509551</td>\n",
       "      <td>7035110469</td>\n",
       "      <td>7500</td>\n",
       "      <td>2014.0</td>\n",
       "      <td>99990.0</td>\n",
       "      <td>fwd</td>\n",
       "      <td>gas</td>\n",
       "      <td>nissan</td>\n",
       "      <td>ut</td>\n",
       "      <td>clean</td>\n",
       "      <td>manual</td>\n",
       "      <td>hatchback</td>\n",
       "      <td>white</td>\n",
       "      <td>4 cylinders</td>\n",
       "      <td>versa note</td>\n",
       "      <td>3N1CE2CP2EL410458</td>\n",
       "    </tr>\n",
       "    <tr>\n",
       "      <td>509555</td>\n",
       "      <td>7034929999</td>\n",
       "      <td>32000</td>\n",
       "      <td>2018.0</td>\n",
       "      <td>39457.0</td>\n",
       "      <td>4wd</td>\n",
       "      <td>gas</td>\n",
       "      <td>gmc</td>\n",
       "      <td>ut</td>\n",
       "      <td>clean</td>\n",
       "      <td>automatic</td>\n",
       "      <td>pickup</td>\n",
       "      <td>black</td>\n",
       "      <td>6 cylinders</td>\n",
       "      <td>canyon crew cab slt</td>\n",
       "      <td>1gtg6denxj1127455</td>\n",
       "    </tr>\n",
       "    <tr>\n",
       "      <td>509574</td>\n",
       "      <td>7034523643</td>\n",
       "      <td>24895</td>\n",
       "      <td>2019.0</td>\n",
       "      <td>6973.0</td>\n",
       "      <td>4wd</td>\n",
       "      <td>gas</td>\n",
       "      <td>jeep</td>\n",
       "      <td>ut</td>\n",
       "      <td>clean</td>\n",
       "      <td>automatic</td>\n",
       "      <td>SUV</td>\n",
       "      <td>white</td>\n",
       "      <td>4 cylinders</td>\n",
       "      <td>cherokee</td>\n",
       "      <td>1C4PJMLB0KD267506</td>\n",
       "    </tr>\n",
       "  </tbody>\n",
       "</table>\n",
       "</div>"
      ],
      "text/plain": [
       "                id  price    year  odometer drive fuel manufacturer state  \\\n",
       "509547  7035259793  33895  2016.0   49698.0   4wd  gas         ford    ut   \n",
       "509548  7035257184   6500  2008.0  195000.0   rwd  gas    chevrolet    ut   \n",
       "509551  7035110469   7500  2014.0   99990.0   fwd  gas       nissan    ut   \n",
       "509555  7034929999  32000  2018.0   39457.0   4wd  gas          gmc    ut   \n",
       "509574  7034523643  24895  2019.0    6973.0   4wd  gas         jeep    ut   \n",
       "\n",
       "       title_status transmission       type paint_color    cylinders  \\\n",
       "509547        clean    automatic      truck        blue  6 cylinders   \n",
       "509548        clean    automatic        van       white  8 cylinders   \n",
       "509551        clean       manual  hatchback       white  4 cylinders   \n",
       "509555        clean    automatic     pickup       black  6 cylinders   \n",
       "509574        clean    automatic        SUV       white  4 cylinders   \n",
       "\n",
       "                      model                vin  \n",
       "509547                f-150  1FTFW1EG9GFA33106  \n",
       "509548         express 3500  1GAHG39K981133844  \n",
       "509551           versa note  3N1CE2CP2EL410458  \n",
       "509555  canyon crew cab slt  1gtg6denxj1127455  \n",
       "509574             cherokee  1C4PJMLB0KD267506  "
      ]
     },
     "execution_count": 21,
     "metadata": {},
     "output_type": "execute_result"
    }
   ],
   "source": [
    "df.tail()"
   ]
  },
  {
   "cell_type": "code",
   "execution_count": 22,
   "metadata": {},
   "outputs": [
    {
     "data": {
      "text/html": [
       "<div>\n",
       "<style scoped>\n",
       "    .dataframe tbody tr th:only-of-type {\n",
       "        vertical-align: middle;\n",
       "    }\n",
       "\n",
       "    .dataframe tbody tr th {\n",
       "        vertical-align: top;\n",
       "    }\n",
       "\n",
       "    .dataframe thead th {\n",
       "        text-align: right;\n",
       "    }\n",
       "</style>\n",
       "<table border=\"1\" class=\"dataframe\">\n",
       "  <thead>\n",
       "    <tr style=\"text-align: right;\">\n",
       "      <th></th>\n",
       "      <th>id</th>\n",
       "      <th>price</th>\n",
       "      <th>year</th>\n",
       "      <th>odometer</th>\n",
       "      <th>drive</th>\n",
       "      <th>fuel</th>\n",
       "      <th>manufacturer</th>\n",
       "      <th>state</th>\n",
       "      <th>title_status</th>\n",
       "      <th>transmission</th>\n",
       "      <th>type</th>\n",
       "      <th>paint_color</th>\n",
       "      <th>cylinders</th>\n",
       "      <th>model</th>\n",
       "      <th>vin</th>\n",
       "    </tr>\n",
       "  </thead>\n",
       "  <tbody>\n",
       "    <tr>\n",
       "      <td>0</td>\n",
       "      <td>7034441763</td>\n",
       "      <td>17899</td>\n",
       "      <td>2012.0</td>\n",
       "      <td>63500.0</td>\n",
       "      <td>4wd</td>\n",
       "      <td>gas</td>\n",
       "      <td>volkswagen</td>\n",
       "      <td>ut</td>\n",
       "      <td>clean</td>\n",
       "      <td>manual</td>\n",
       "      <td>hatchback</td>\n",
       "      <td>black</td>\n",
       "      <td>4 cylinders</td>\n",
       "      <td>golf r</td>\n",
       "      <td>WVWPF7AJ6CW316713</td>\n",
       "    </tr>\n",
       "    <tr>\n",
       "      <td>24</td>\n",
       "      <td>7034278551</td>\n",
       "      <td>4600</td>\n",
       "      <td>2008.0</td>\n",
       "      <td>110982.0</td>\n",
       "      <td>fwd</td>\n",
       "      <td>gas</td>\n",
       "      <td>honda</td>\n",
       "      <td>ut</td>\n",
       "      <td>clean</td>\n",
       "      <td>automatic</td>\n",
       "      <td>sedan</td>\n",
       "      <td>grey</td>\n",
       "      <td>4 cylinders</td>\n",
       "      <td>civic</td>\n",
       "      <td>2HGFA16528H503005</td>\n",
       "    </tr>\n",
       "    <tr>\n",
       "      <td>39</td>\n",
       "      <td>7033943607</td>\n",
       "      <td>3995</td>\n",
       "      <td>1999.0</td>\n",
       "      <td>215349.0</td>\n",
       "      <td>4wd</td>\n",
       "      <td>gas</td>\n",
       "      <td>subaru</td>\n",
       "      <td>ut</td>\n",
       "      <td>clean</td>\n",
       "      <td>automatic</td>\n",
       "      <td>wagon</td>\n",
       "      <td>blue</td>\n",
       "      <td>4 cylinders</td>\n",
       "      <td>outback</td>\n",
       "      <td>4S3BG6859X6660102</td>\n",
       "    </tr>\n",
       "    <tr>\n",
       "      <td>60</td>\n",
       "      <td>7033478714</td>\n",
       "      <td>28895</td>\n",
       "      <td>2016.0</td>\n",
       "      <td>19086.0</td>\n",
       "      <td>4wd</td>\n",
       "      <td>gas</td>\n",
       "      <td>ram</td>\n",
       "      <td>ut</td>\n",
       "      <td>clean</td>\n",
       "      <td>automatic</td>\n",
       "      <td>truck</td>\n",
       "      <td>red</td>\n",
       "      <td>8 cylinders</td>\n",
       "      <td>1500</td>\n",
       "      <td>1C6RR7GT6GS369389</td>\n",
       "    </tr>\n",
       "    <tr>\n",
       "      <td>61</td>\n",
       "      <td>7033472903</td>\n",
       "      <td>105500</td>\n",
       "      <td>2017.0</td>\n",
       "      <td>35000.0</td>\n",
       "      <td>4wd</td>\n",
       "      <td>diesel</td>\n",
       "      <td>mercedes-benz</td>\n",
       "      <td>ut</td>\n",
       "      <td>clean</td>\n",
       "      <td>other</td>\n",
       "      <td>van</td>\n",
       "      <td>blue</td>\n",
       "      <td>6 cylinders</td>\n",
       "      <td>sprinter 2500 4x4</td>\n",
       "      <td>WD4FE7CD1HP550108</td>\n",
       "    </tr>\n",
       "  </tbody>\n",
       "</table>\n",
       "</div>"
      ],
      "text/plain": [
       "            id   price    year  odometer drive    fuel   manufacturer state  \\\n",
       "0   7034441763   17899  2012.0   63500.0   4wd     gas     volkswagen    ut   \n",
       "24  7034278551    4600  2008.0  110982.0   fwd     gas          honda    ut   \n",
       "39  7033943607    3995  1999.0  215349.0   4wd     gas         subaru    ut   \n",
       "60  7033478714   28895  2016.0   19086.0   4wd     gas            ram    ut   \n",
       "61  7033472903  105500  2017.0   35000.0   4wd  diesel  mercedes-benz    ut   \n",
       "\n",
       "   title_status transmission       type paint_color    cylinders  \\\n",
       "0         clean       manual  hatchback       black  4 cylinders   \n",
       "24        clean    automatic      sedan        grey  4 cylinders   \n",
       "39        clean    automatic      wagon        blue  4 cylinders   \n",
       "60        clean    automatic      truck         red  8 cylinders   \n",
       "61        clean        other        van        blue  6 cylinders   \n",
       "\n",
       "                model                vin  \n",
       "0              golf r  WVWPF7AJ6CW316713  \n",
       "24              civic  2HGFA16528H503005  \n",
       "39            outback  4S3BG6859X6660102  \n",
       "60               1500  1C6RR7GT6GS369389  \n",
       "61  sprinter 2500 4x4  WD4FE7CD1HP550108  "
      ]
     },
     "execution_count": 22,
     "metadata": {},
     "output_type": "execute_result"
    }
   ],
   "source": [
    "df.head()"
   ]
  },
  {
   "cell_type": "markdown",
   "metadata": {},
   "source": [
    "### 4명이서 나누면 대략"
   ]
  },
  {
   "cell_type": "code",
   "execution_count": 20,
   "metadata": {
    "scrolled": true
   },
   "outputs": [
    {
     "data": {
      "text/plain": [
       "19362.25"
      ]
     },
     "execution_count": 20,
     "metadata": {},
     "output_type": "execute_result"
    }
   ],
   "source": [
    "77449 / 4"
   ]
  },
  {
   "cell_type": "markdown",
   "metadata": {},
   "source": [
    "### 요런 느낌으로 하면 될것 같습니다.\n",
    "- cho : 0~20000\n",
    "- hong : 20000~40000\n",
    "- bae : 40000~60000\n",
    "- yu : 60000~"
   ]
  },
  {
   "cell_type": "markdown",
   "metadata": {},
   "source": [
    "### 함수를 만들어 봤습니다. 함수에 index 시작과 끝 숫자를 넣어주시면 됩니다."
   ]
  },
  {
   "cell_type": "code",
   "execution_count": 27,
   "metadata": {},
   "outputs": [],
   "source": [
    "def vin_cralwer(start_num,end_num):\n",
    "    result_list = []\n",
    "    result = {}\n",
    "    for i in df.sort_values(by=['odometer'],ascending=False)[['vin','odometer','price']][start_num:end_num].iterrows():\n",
    "        vin = i[1][0]\n",
    "        odometer = i[1][1]\n",
    "        url = 'https://marketvalue.vinaudit.com/getmarketvalue.php?key=1HB7ICF9L0GVH5Q&vin={}&mileage={}&country=USA'.format(vin, odometer)\n",
    "        response = requests.get(url)\n",
    "        jsonresponse = response.json()\n",
    "        for k, v in jsonresponse.items():\n",
    "            if k == 'prices':\n",
    "                for key, value in v.items():\n",
    "                    result[key] = value\n",
    "            else:\n",
    "                result[k] = v\n",
    "\n",
    "        result_list.append(result)\n",
    "        result = {}\n",
    "    return pd.DataFrame(result_list).to_csv('./vin_crawling.csv')"
   ]
  },
  {
   "cell_type": "markdown",
   "metadata": {},
   "source": [
    "- 작은 범위로 테스트 한번 해보시고 크롤링 해주시면 됩니다. \n",
    "- 위의 csv파일 저장되는 위치와 이름은 변경하셔도 됩니다."
   ]
  },
  {
   "cell_type": "code",
   "execution_count": 28,
   "metadata": {},
   "outputs": [],
   "source": [
    "vin_cralwer(0,20)"
   ]
  },
  {
   "cell_type": "code",
   "execution_count": null,
   "metadata": {},
   "outputs": [],
   "source": []
  }
 ],
 "metadata": {
  "kernelspec": {
   "display_name": "Python 3",
   "language": "python",
   "name": "python3"
  },
  "language_info": {
   "codemirror_mode": {
    "name": "ipython",
    "version": 3
   },
   "file_extension": ".py",
   "mimetype": "text/x-python",
   "name": "python",
   "nbconvert_exporter": "python",
   "pygments_lexer": "ipython3",
   "version": "3.7.4"
  }
 },
 "nbformat": 4,
 "nbformat_minor": 2
}
