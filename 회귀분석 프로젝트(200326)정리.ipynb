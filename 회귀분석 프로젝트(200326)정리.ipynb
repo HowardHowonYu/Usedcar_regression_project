{
 "cells": [
  {
   "cell_type": "code",
   "execution_count": 1,
   "metadata": {},
   "outputs": [],
   "source": [
    "data = pd.read_csv(\"vehicles.csv\")"
   ]
  },
  {
   "cell_type": "markdown",
   "metadata": {},
   "source": [
    "### 데이터 전처리"
   ]
  },
  {
   "cell_type": "code",
   "execution_count": 61,
   "metadata": {},
   "outputs": [
    {
     "data": {
      "text/plain": [
       "509577"
      ]
     },
     "execution_count": 61,
     "metadata": {},
     "output_type": "execute_result"
    }
   ],
   "source": [
    "len(data)"
   ]
  },
  {
   "cell_type": "code",
   "execution_count": 76,
   "metadata": {},
   "outputs": [],
   "source": [
    "df = data[[\"id\",\"model\",\"price\",\"year\",\"manufacturer\",\"cylinders\",\"fuel\",\"odometer\",\"title_status\",\"transmission\",\"drive\",\"type\",\"paint_color\",'state','vin']]"
   ]
  },
  {
   "cell_type": "code",
   "execution_count": 77,
   "metadata": {},
   "outputs": [],
   "source": [
    "df = df.dropna(how = \"any\")"
   ]
  },
  {
   "cell_type": "code",
   "execution_count": 78,
   "metadata": {},
   "outputs": [
    {
     "data": {
      "text/plain": [
       "120082"
      ]
     },
     "execution_count": 78,
     "metadata": {},
     "output_type": "execute_result"
    }
   ],
   "source": [
    "len(df)"
   ]
  },
  {
   "cell_type": "code",
   "execution_count": 79,
   "metadata": {},
   "outputs": [],
   "source": [
    "df = df.loc[df[\"vin\"].drop_duplicates(keep=\"last\").index]"
   ]
  },
  {
   "cell_type": "code",
   "execution_count": 80,
   "metadata": {},
   "outputs": [
    {
     "data": {
      "text/plain": [
       "77339"
      ]
     },
     "execution_count": 80,
     "metadata": {},
     "output_type": "execute_result"
    }
   ],
   "source": [
    "len(df)"
   ]
  },
  {
   "cell_type": "code",
   "execution_count": 81,
   "metadata": {},
   "outputs": [],
   "source": [
    "df = df[(df[\"price\"] != 0) & (df[\"price\"] <= 1000000) & (df[\"price\"] > 100)]"
   ]
  },
  {
   "cell_type": "code",
   "execution_count": 82,
   "metadata": {},
   "outputs": [],
   "source": [
    "df = df[(df[\"odometer\"] != 0) & (df[\"odometer\"] <= 1000000) & (df[\"odometer\"] >= 100)]"
   ]
  },
  {
   "cell_type": "code",
   "execution_count": 83,
   "metadata": {},
   "outputs": [],
   "source": [
    "df = df[(df[\"year\"]!=0.0) & (df[\"year\"]!=2021.0)]"
   ]
  },
  {
   "cell_type": "code",
   "execution_count": 84,
   "metadata": {},
   "outputs": [],
   "source": [
    "ls  = []\n",
    "start = [\"1\",\"2\",\"3\",\"4\",\"5\", \"6\", \"7\", \"8\",\"9\"]\n",
    "for j in start:\n",
    "    s= j\n",
    "    input_num  = 9-int(s)\n",
    "    for i in range (input_num):\n",
    "        s =  str(s)+str(int(s[-1])+1 )\n",
    "        a = int(s)\n",
    "        b= int(\"\".join(reversed(s)))\n",
    "        ls.append(a)\n",
    "        ls.append(b)\n",
    "for rm_price in ls:\n",
    "    df = df[df[\"price\"] != rm_price]        "
   ]
  },
  {
   "cell_type": "code",
   "execution_count": 85,
   "metadata": {},
   "outputs": [],
   "source": [
    "remove_word = []\n",
    "\n",
    "start = [\"1\",\"2\",\"3\",\"4\",\"5\", \"6\", \"7\", \"8\",\"9\"]\n",
    "for j in start:\n",
    "    plus_num = j\n",
    "    start_word = \"\"\n",
    "    for i in range(9):\n",
    "        start_word += plus_num\n",
    "        r = int(start_word)\n",
    "        remove_word.append(r)\n",
    "    \n",
    "for price in remove_word:\n",
    "    df = df[df[\"price\"] != price]    "
   ]
  },
  {
   "cell_type": "code",
   "execution_count": 86,
   "metadata": {},
   "outputs": [
    {
     "data": {
      "text/plain": [
       "71061"
      ]
     },
     "execution_count": 86,
     "metadata": {},
     "output_type": "execute_result"
    }
   ],
   "source": [
    "len(df)"
   ]
  },
  {
   "cell_type": "code",
   "execution_count": null,
   "metadata": {},
   "outputs": [],
   "source": [
    "### "
   ]
  },
  {
   "cell_type": "code",
   "execution_count": null,
   "metadata": {},
   "outputs": [],
   "source": [
    "# 100000달러 이상 차중 살아남을 애들\n",
    "alive_car = [7033472903,7039773014,7049284671,7043599850,7049033507,7036156093,7049707044,7048009986,7041367828,7047810612,7045671330,7047378977]"
   ]
  },
  {
   "cell_type": "code",
   "execution_count": 99,
   "metadata": {},
   "outputs": [],
   "source": [
    "df = df[(df[\"price\"]<100000) | df['id'].isin(alive_car)]"
   ]
  },
  {
   "cell_type": "code",
   "execution_count": 129,
   "metadata": {},
   "outputs": [
    {
     "data": {
      "text/plain": [
       "71047"
      ]
     },
     "execution_count": 129,
     "metadata": {},
     "output_type": "execute_result"
    }
   ],
   "source": [
    "len(df)"
   ]
  },
  {
   "cell_type": "code",
   "execution_count": 103,
   "metadata": {},
   "outputs": [
    {
     "data": {
      "text/plain": [
       "array([2012., 2008., 1999., 2016., 2017., 2019., 2018., 2011., 2004.,\n",
       "       1950., 2013., 2002., 2007., 2006., 2009., 2005., 1986., 1998.,\n",
       "       1977., 2010., 1991., 2015., 2000., 2014., 1964., 1995., 2001.,\n",
       "       2003., 1997., 1990., 1993., 1978., 1956., 1971., 1959., 1992.,\n",
       "       1988., 1979., 1984., 1972., 1996., 1985., 1989., 1929., 1994.,\n",
       "       1973., 1974., 1966., 1965., 1967., 1932., 1953., 1969., 1968.,\n",
       "       1987., 1981., 2020., 1982., 1976., 1963., 1957., 1983., 1947.,\n",
       "       1928., 1975., 1970., 1951., 1954., 1962., 1933., 1941., 1980.,\n",
       "       1955., 1958., 1960., 1927., 1961., 1948., 1930., 1937., 1939.,\n",
       "       1946., 1931., 1940., 1934., 1936., 1952., 1926., 1949., 1935.,\n",
       "       1938.])"
      ]
     },
     "execution_count": 103,
     "metadata": {},
     "output_type": "execute_result"
    }
   ],
   "source": [
    "df.year.unique()"
   ]
  },
  {
   "cell_type": "code",
   "execution_count": 108,
   "metadata": {},
   "outputs": [
    {
     "data": {
      "text/plain": [
       "<matplotlib.axes._subplots.AxesSubplot at 0x1b780e5af48>"
      ]
     },
     "execution_count": 108,
     "metadata": {},
     "output_type": "execute_result"
    },
    {
     "data": {
      "image/png": "[encoded data removed]",
      "text/plain": [
       "<Figure size 432x288 with 1 Axes>"
      ]
     },
     "metadata": {
      "image/png": {
       "height": 269,
       "width": 411
      },
      "needs_background": "light"
     },
     "output_type": "display_data"
    }
   ],
   "source": [
    "sns.scatterplot(y=\"price\", x=\"year\", data=df )"
   ]
  },
  {
   "cell_type": "code",
   "execution_count": 112,
   "metadata": {},
   "outputs": [
    {
     "name": "stdout",
     "output_type": "stream",
     "text": [
      "                            OLS Regression Results                            \n",
      "==============================================================================\n",
      "Dep. Variable:           scale(price)   R-squared:                       0.733\n",
      "Model:                            OLS   Adj. R-squared:                  0.732\n",
      "Method:                 Least Squares   F-statistic:                     863.9\n",
      "Date:                Thu, 26 Mar 2020   Prob (F-statistic):               0.00\n",
      "Time:                        16:36:45   Log-Likelihood:                -53909.\n",
      "No. Observations:               71047   AIC:                         1.083e+05\n",
      "Df Residuals:                   70821   BIC:                         1.103e+05\n",
      "Df Model:                         225                                         \n",
      "Covariance Type:            nonrobust                                         \n",
      "======================================================================================================\n",
      "                                         coef    std err          t      P>|t|      [0.025      0.975]\n",
      "------------------------------------------------------------------------------------------------------\n",
      "Intercept                              1.9308      0.521      3.704      0.000       0.909       2.952\n",
      "C(year)[T.1927.0]                      1.2928      0.734      1.762      0.078      -0.145       2.731\n",
      "C(year)[T.1928.0]                      0.2078      0.569      0.365      0.715      -0.907       1.323\n",
      "C(year)[T.1929.0]                      0.6421      0.636      1.010      0.312      -0.604       1.888\n",
      "C(year)[T.1930.0]                     -0.0141      0.733     -0.019      0.985      -1.452       1.423\n",
      "C(year)[T.1931.0]                      0.2965      0.581      0.511      0.610      -0.841       1.434\n",
      "C(year)[T.1932.0]                      1.9474      0.580      3.355      0.001       0.810       3.085\n",
      "C(year)[T.1933.0]                      1.1761      0.636      1.850      0.064      -0.070       2.422\n",
      "C(year)[T.1934.0]                     -0.2275      0.733     -0.310      0.756      -1.665       1.210\n",
      "C(year)[T.1935.0]                      0.7621      0.734      1.039      0.299      -0.676       2.200\n",
      "C(year)[T.1936.0]                     -0.4413      0.734     -0.601      0.548      -1.879       0.997\n",
      "C(year)[T.1937.0]                      0.7328      0.636      1.153      0.249      -0.513       1.979\n",
      "C(year)[T.1938.0]                      0.5078      0.733      0.692      0.489      -0.930       1.945\n",
      "C(year)[T.1939.0]                      0.2564      0.636      0.403      0.687      -0.989       1.502\n",
      "C(year)[T.1940.0]                      0.3406      0.734      0.464      0.642      -1.097       1.779\n",
      "C(year)[T.1941.0]                      0.7081      0.601      1.179      0.239      -0.469       1.886\n",
      "C(year)[T.1946.0]                      0.1240      0.636      0.195      0.845      -1.122       1.370\n",
      "C(year)[T.1947.0]                      1.2750      0.636      2.005      0.045       0.028       2.522\n",
      "C(year)[T.1948.0]                      1.0958      0.636      1.724      0.085      -0.150       2.342\n",
      "C(year)[T.1949.0]                      1.0004      0.638      1.569      0.117      -0.249       2.250\n",
      "C(year)[T.1950.0]                     -0.1135      0.581     -0.196      0.845      -1.252       1.024\n",
      "C(year)[T.1951.0]                      1.5836      0.561      2.823      0.005       0.484       2.683\n",
      "C(year)[T.1952.0]                     -0.7377      0.599     -1.231      0.218      -1.912       0.437\n",
      "C(year)[T.1953.0]                      1.3232      0.569      2.325      0.020       0.208       2.439\n",
      "C(year)[T.1954.0]                     -0.2357      0.600     -0.393      0.694      -1.411       0.939\n",
      "C(year)[T.1955.0]                      0.5034      0.569      0.885      0.376      -0.611       1.618\n",
      "C(year)[T.1956.0]                      0.5550      0.552      1.005      0.315      -0.527       1.637\n",
      "C(year)[T.1957.0]                      0.9429      0.551      1.712      0.087      -0.137       2.023\n",
      "C(year)[T.1958.0]                      0.6950      0.561      1.239      0.215      -0.405       1.795\n",
      "C(year)[T.1959.0]                     -0.2188      0.555     -0.394      0.694      -1.307       0.869\n",
      "C(year)[T.1960.0]                      0.5916      0.636      0.931      0.352      -0.654       1.837\n",
      "C(year)[T.1961.0]                     -1.4213      0.733     -1.938      0.053      -2.859       0.016\n",
      "C(year)[T.1962.0]                      1.2874      0.581      2.216      0.027       0.149       2.426\n",
      "C(year)[T.1963.0]                      0.0609      0.547      0.111      0.911      -1.012       1.134\n",
      "C(year)[T.1964.0]                     -0.0318      0.531     -0.060      0.952      -1.073       1.009\n",
      "C(year)[T.1965.0]                      0.3480      0.529      0.658      0.511      -0.689       1.386\n",
      "C(year)[T.1966.0]                      0.3737      0.526      0.710      0.478      -0.658       1.405\n",
      "C(year)[T.1967.0]                      0.2428      0.530      0.458      0.647      -0.796       1.282\n",
      "C(year)[T.1968.0]                      0.2146      0.530      0.405      0.686      -0.824       1.253\n",
      "C(year)[T.1969.0]                      0.6125      0.530      1.155      0.248      -0.427       1.652\n",
      "C(year)[T.1970.0]                      0.8919      0.530      1.682      0.093      -0.147       1.931\n",
      "C(year)[T.1971.0]                     -0.2464      0.529     -0.466      0.641      -1.283       0.791\n",
      "C(year)[T.1972.0]                     -0.1639      0.526     -0.312      0.755      -1.195       0.867\n",
      "C(year)[T.1973.0]                     -0.1087      0.533     -0.204      0.839      -1.154       0.937\n",
      "C(year)[T.1974.0]                     -0.5209      0.530     -0.984      0.325      -1.559       0.517\n",
      "C(year)[T.1975.0]                     -0.5375      0.538     -1.000      0.317      -1.591       0.516\n",
      "C(year)[T.1976.0]                     -0.7192      0.530     -1.357      0.175      -1.758       0.319\n",
      "C(year)[T.1977.0]                     -0.7964      0.531     -1.501      0.133      -1.837       0.244\n",
      "C(year)[T.1978.0]                     -0.7333      0.526     -1.394      0.163      -1.764       0.298\n",
      "C(year)[T.1979.0]                     -0.7295      0.528     -1.381      0.167      -1.765       0.306\n",
      "C(year)[T.1980.0]                     -0.6710      0.532     -1.260      0.208      -1.714       0.372\n",
      "C(year)[T.1981.0]                     -0.8825      0.531     -1.661      0.097      -1.924       0.159\n",
      "C(year)[T.1982.0]                     -0.5285      0.541     -0.978      0.328      -1.588       0.531\n",
      "C(year)[T.1983.0]                     -0.6121      0.531     -1.152      0.249      -1.653       0.429\n",
      "C(year)[T.1984.0]                     -0.7183      0.527     -1.363      0.173      -1.751       0.314\n",
      "C(year)[T.1985.0]                     -0.7456      0.527     -1.415      0.157      -1.779       0.288\n",
      "C(year)[T.1986.0]                     -0.7109      0.524     -1.357      0.175      -1.738       0.316\n",
      "C(year)[T.1987.0]                     -0.4903      0.524     -0.936      0.349      -1.517       0.536\n",
      "C(year)[T.1988.0]                     -0.7415      0.523     -1.417      0.157      -1.767       0.284\n",
      "C(year)[T.1989.0]                     -0.6424      0.523     -1.229      0.219      -1.667       0.382\n",
      "C(year)[T.1990.0]                     -0.6872      0.522     -1.315      0.188      -1.711       0.337\n",
      "C(year)[T.1991.0]                     -0.6926      0.523     -1.325      0.185      -1.717       0.332\n",
      "C(year)[T.1992.0]                     -0.6003      0.522     -1.150      0.250      -1.624       0.423\n",
      "C(year)[T.1993.0]                     -0.6895      0.522     -1.322      0.186      -1.712       0.333\n",
      "C(year)[T.1994.0]                     -0.7573      0.521     -1.454      0.146      -1.778       0.264\n",
      "C(year)[T.1995.0]                     -0.7371      0.521     -1.415      0.157      -1.758       0.284\n",
      "C(year)[T.1996.0]                     -0.8168      0.521     -1.569      0.117      -1.837       0.204\n",
      "C(year)[T.1997.0]                     -0.7723      0.520     -1.485      0.138      -1.792       0.247\n",
      "C(year)[T.1998.0]                     -0.7346      0.520     -1.412      0.158      -1.754       0.285\n",
      "C(year)[T.1999.0]                     -0.7512      0.520     -1.445      0.149      -1.770       0.268\n",
      "C(year)[T.2000.0]                     -0.7062      0.520     -1.359      0.174      -1.725       0.313\n",
      "C(year)[T.2001.0]                     -0.6783      0.520     -1.305      0.192      -1.697       0.341\n",
      "C(year)[T.2002.0]                     -0.6113      0.520     -1.176      0.240      -1.630       0.407\n",
      "C(year)[T.2003.0]                     -0.6147      0.520     -1.183      0.237      -1.633       0.404\n",
      "C(year)[T.2004.0]                     -0.5940      0.520     -1.143      0.253      -1.612       0.425\n",
      "C(year)[T.2005.0]                     -0.5108      0.520     -0.983      0.326      -1.529       0.508\n",
      "C(year)[T.2006.0]                     -0.4761      0.520     -0.916      0.360      -1.495       0.542\n",
      "C(year)[T.2007.0]                     -0.3924      0.520     -0.755      0.450      -1.411       0.626\n",
      "C(year)[T.2008.0]                     -0.3298      0.520     -0.635      0.526      -1.348       0.689\n",
      "C(year)[T.2009.0]                     -0.2122      0.520     -0.408      0.683      -1.231       0.806\n",
      "C(year)[T.2010.0]                     -0.1430      0.520     -0.275      0.783      -1.161       0.875\n",
      "C(year)[T.2011.0]                     -0.0454      0.520     -0.087      0.930      -1.064       0.973\n",
      "C(year)[T.2012.0]                      0.0690      0.520      0.133      0.894      -0.949       1.087\n",
      "C(year)[T.2013.0]                      0.2117      0.520      0.407      0.684      -0.807       1.230\n",
      "C(year)[T.2014.0]                      0.3458      0.520      0.666      0.506      -0.673       1.364\n",
      "C(year)[T.2015.0]                      0.5793      0.520      1.115      0.265      -0.439       1.598\n",
      "C(year)[T.2016.0]                      0.7451      0.520      1.434      0.152      -0.273       1.763\n",
      "C(year)[T.2017.0]                      0.8936      0.520      1.720      0.085      -0.125       1.912\n",
      "C(year)[T.2018.0]                      1.0534      0.520      2.027      0.043       0.035       2.072\n",
      "C(year)[T.2019.0]                      1.3628      0.520      2.622      0.009       0.344       2.381\n",
      "C(year)[T.2020.0]                      2.0899      0.524      3.987      0.000       1.063       3.117\n",
      "C(manufacturer)[T.alfa-romeo]          0.4807      0.136      3.524      0.000       0.213       0.748\n",
      "C(manufacturer)[T.aston-martin]        4.4112      0.244     18.109      0.000       3.934       4.889\n",
      "C(manufacturer)[T.audi]               -0.0278      0.027     -1.040      0.298      -0.080       0.025\n",
      "C(manufacturer)[T.bmw]                 0.0007      0.024      0.029      0.977      -0.045       0.047\n",
      "C(manufacturer)[T.buick]              -0.1918      0.027     -7.145      0.000      -0.244      -0.139\n",
      "C(manufacturer)[T.cadillac]           -0.0380      0.026     -1.465      0.143      -0.089       0.013\n",
      "C(manufacturer)[T.chevrolet]          -0.2457      0.021    -11.592      0.000      -0.287      -0.204\n",
      "C(manufacturer)[T.chrysler]           -0.3232      0.025    -13.059      0.000      -0.372      -0.275\n",
      "C(manufacturer)[T.datsun]             -0.2957      0.200     -1.477      0.140      -0.688       0.097\n",
      "C(manufacturer)[T.dodge]              -0.3782      0.023    -16.591      0.000      -0.423      -0.334\n",
      "C(manufacturer)[T.ferrari]             6.3300      0.158     39.956      0.000       6.019       6.641\n",
      "C(manufacturer)[T.fiat]               -0.7017      0.050    -13.934      0.000      -0.800      -0.603\n",
      "C(manufacturer)[T.ford]               -0.2777      0.021    -13.179      0.000      -0.319      -0.236\n",
      "C(manufacturer)[T.gmc]                -0.1241      0.023     -5.438      0.000      -0.169      -0.079\n",
      "C(manufacturer)[T.harley-davidson]     0.0196      0.197      0.100      0.921      -0.367       0.406\n",
      "C(manufacturer)[T.honda]              -0.0078      0.022     -0.356      0.722      -0.051       0.035\n",
      "C(manufacturer)[T.hyundai]            -0.3601      0.024    -15.273      0.000      -0.406      -0.314\n",
      "C(manufacturer)[T.infiniti]           -0.1340      0.029     -4.600      0.000      -0.191      -0.077\n",
      "C(manufacturer)[T.jaguar]             -0.0870      0.044     -1.961      0.050      -0.174   -2.79e-05\n",
      "C(manufacturer)[T.jeep]               -0.1150      0.022     -5.144      0.000      -0.159      -0.071\n",
      "C(manufacturer)[T.kia]                -0.3903      0.025    -15.823      0.000      -0.439      -0.342\n",
      "C(manufacturer)[T.land rover]         -0.2049      0.300     -0.682      0.495      -0.793       0.384\n",
      "C(manufacturer)[T.lexus]               0.1322      0.026      5.090      0.000       0.081       0.183\n",
      "C(manufacturer)[T.lincoln]            -0.2374      0.031     -7.759      0.000      -0.297      -0.177\n",
      "C(manufacturer)[T.mazda]              -0.1742      0.026     -6.605      0.000      -0.226      -0.123\n",
      "C(manufacturer)[T.mercedes-benz]       0.0527      0.024      2.163      0.031       0.005       0.100\n",
      "C(manufacturer)[T.mercury]            -0.3279      0.037     -8.940      0.000      -0.400      -0.256\n",
      "C(manufacturer)[T.mini]               -0.2678      0.034     -7.964      0.000      -0.334      -0.202\n",
      "C(manufacturer)[T.mitsubishi]         -0.3384      0.034     -9.999      0.000      -0.405      -0.272\n",
      "C(manufacturer)[T.morgan]              2.8407      0.525      5.406      0.000       1.811       3.871\n",
      "C(manufacturer)[T.nissan]             -0.3750      0.022    -17.149      0.000      -0.418      -0.332\n",
      "C(manufacturer)[T.pontiac]            -0.0768      0.031     -2.513      0.012      -0.137      -0.017\n",
      "C(manufacturer)[T.porche]              0.0218      0.367      0.059      0.953      -0.698       0.742\n",
      "C(manufacturer)[T.ram]                -0.2232      0.023     -9.659      0.000      -0.268      -0.178\n",
      "C(manufacturer)[T.rover]               0.3037      0.040      7.501      0.000       0.224       0.383\n",
      "C(manufacturer)[T.saturn]             -0.0991      0.040     -2.494      0.013      -0.177      -0.021\n",
      "C(manufacturer)[T.subaru]             -0.1697      0.025     -6.810      0.000      -0.219      -0.121\n",
      "C(manufacturer)[T.tesla]               3.0945      0.156     19.790      0.000       2.788       3.401\n",
      "C(manufacturer)[T.toyota]              0.0355      0.021      1.655      0.098      -0.007       0.078\n",
      "C(manufacturer)[T.volkswagen]         -0.4051      0.024    -16.730      0.000      -0.453      -0.358\n",
      "C(manufacturer)[T.volvo]              -0.1589      0.033     -4.827      0.000      -0.223      -0.094\n",
      "C(cylinders)[T.12 cylinders]           0.1897      0.124      1.526      0.127      -0.054       0.433\n",
      "C(cylinders)[T.3 cylinders]           -1.3254      0.057    -23.196      0.000      -1.437      -1.213\n",
      "C(cylinders)[T.4 cylinders]           -0.9959      0.031    -31.751      0.000      -1.057      -0.934\n",
      "C(cylinders)[T.5 cylinders]           -0.7397      0.039    -19.109      0.000      -0.816      -0.664\n",
      "C(cylinders)[T.6 cylinders]           -0.6389      0.031    -20.639      0.000      -0.700      -0.578\n",
      "C(cylinders)[T.8 cylinders]           -0.3221      0.031    -10.444      0.000      -0.383      -0.262\n",
      "C(cylinders)[T.other]                 -1.0335      0.049    -21.079      0.000      -1.130      -0.937\n",
      "C(fuel)[T.electric]                   -0.8902      0.083    -10.730      0.000      -1.053      -0.728\n",
      "C(fuel)[T.gas]                        -0.9023      0.009    -99.981      0.000      -0.920      -0.885\n",
      "C(fuel)[T.hybrid]                     -0.7897      0.021    -38.315      0.000      -0.830      -0.749\n",
      "C(fuel)[T.other]                      -0.9449      0.020    -46.536      0.000      -0.985      -0.905\n",
      "C(title_status)[T.lien]                0.1103      0.022      5.058      0.000       0.068       0.153\n",
      "C(title_status)[T.missing]            -0.6457      0.099     -6.505      0.000      -0.840      -0.451\n",
      "C(title_status)[T.parts only]         -0.1666      0.196     -0.851      0.395      -0.551       0.217\n",
      "C(title_status)[T.rebuilt]            -0.2968      0.014    -21.641      0.000      -0.324      -0.270\n",
      "C(title_status)[T.salvage]            -0.4135      0.019    -21.402      0.000      -0.451      -0.376\n",
      "C(transmission)[T.manual]              0.2158      0.009     24.596      0.000       0.199       0.233\n",
      "C(transmission)[T.other]               0.0371      0.012      3.078      0.002       0.013       0.061\n",
      "C(drive)[T.fwd]                       -0.3219      0.007    -45.837      0.000      -0.336      -0.308\n",
      "C(drive)[T.rwd]                       -0.2337      0.007    -34.946      0.000      -0.247      -0.221\n",
      "C(type)[T.bus]                         0.1534      0.064      2.402      0.016       0.028       0.279\n",
      "C(type)[T.convertible]                 0.3201      0.015     21.107      0.000       0.290       0.350\n",
      "C(type)[T.coupe]                       0.2439      0.011     22.920      0.000       0.223       0.265\n",
      "C(type)[T.hatchback]                  -0.0476      0.012     -3.814      0.000      -0.072      -0.023\n",
      "C(type)[T.mini-van]                   -0.0002      0.015     -0.015      0.988      -0.030       0.029\n",
      "C(type)[T.offroad]                     0.2658      0.044      6.024      0.000       0.179       0.352\n",
      "C(type)[T.other]                      -0.0061      0.016     -0.379      0.705      -0.038       0.025\n",
      "C(type)[T.pickup]                      0.1859      0.009     20.932      0.000       0.168       0.203\n",
      "C(type)[T.sedan]                      -0.0858      0.007    -13.067      0.000      -0.099      -0.073\n",
      "C(type)[T.truck]                       0.2200      0.008     27.955      0.000       0.205       0.235\n",
      "C(type)[T.van]                         0.0004      0.012      0.032      0.974      -0.024       0.025\n",
      "C(type)[T.wagon]                      -0.0278      0.013     -2.071      0.038      -0.054      -0.001\n",
      "C(paint_color)[T.blue]                -0.0456      0.008     -5.997      0.000      -0.061      -0.031\n",
      "C(paint_color)[T.brown]               -0.0315      0.013     -2.340      0.019      -0.058      -0.005\n",
      "C(paint_color)[T.custom]               0.0073      0.012      0.599      0.549      -0.017       0.031\n",
      "C(paint_color)[T.green]               -0.0334      0.013     -2.583      0.010      -0.059      -0.008\n",
      "C(paint_color)[T.grey]                -0.0539      0.007     -7.525      0.000      -0.068      -0.040\n",
      "C(paint_color)[T.orange]               0.0596      0.026      2.286      0.022       0.009       0.111\n",
      "C(paint_color)[T.purple]              -0.0583      0.041     -1.416      0.157      -0.139       0.022\n",
      "C(paint_color)[T.red]                 -0.0222      0.008     -2.883      0.004      -0.037      -0.007\n",
      "C(paint_color)[T.silver]              -0.0414      0.007     -6.187      0.000      -0.055      -0.028\n",
      "C(paint_color)[T.white]               -0.0249      0.006     -4.053      0.000      -0.037      -0.013\n",
      "C(paint_color)[T.yellow]               0.0641      0.026      2.507      0.012       0.014       0.114\n",
      "C(state)[T.al]                        -0.0681      0.022     -3.127      0.002      -0.111      -0.025\n",
      "C(state)[T.ar]                        -0.2543      0.026     -9.686      0.000      -0.306      -0.203\n",
      "C(state)[T.az]                        -0.1287      0.022     -5.868      0.000      -0.172      -0.086\n",
      "C(state)[T.ca]                        -0.1114      0.018     -6.295      0.000      -0.146      -0.077\n",
      "C(state)[T.co]                        -0.1297      0.020     -6.426      0.000      -0.169      -0.090\n",
      "C(state)[T.ct]                        -0.3443      0.027    -12.979      0.000      -0.396      -0.292\n",
      "C(state)[T.dc]                        -0.2053      0.031     -6.530      0.000      -0.267      -0.144\n",
      "C(state)[T.de]                        -0.2003      0.049     -4.058      0.000      -0.297      -0.104\n",
      "C(state)[T.fl]                        -0.2118      0.018    -11.508      0.000      -0.248      -0.176\n",
      "C(state)[T.ga]                        -0.1917      0.024     -7.875      0.000      -0.239      -0.144\n",
      "C(state)[T.hi]                         0.0723      0.025      2.932      0.003       0.024       0.121\n",
      "C(state)[T.ia]                        -0.2017      0.020    -10.089      0.000      -0.241      -0.163\n",
      "C(state)[T.id]                        -0.1219      0.022     -5.587      0.000      -0.165      -0.079\n",
      "C(state)[T.il]                        -0.2616      0.021    -12.422      0.000      -0.303      -0.220\n",
      "C(state)[T.in]                        -0.2259      0.022    -10.161      0.000      -0.269      -0.182\n",
      "C(state)[T.ks]                        -0.1822      0.022     -8.113      0.000      -0.226      -0.138\n",
      "C(state)[T.ky]                        -0.1998      0.024     -8.387      0.000      -0.247      -0.153\n",
      "C(state)[T.la]                        -0.0985      0.028     -3.482      0.000      -0.154      -0.043\n",
      "C(state)[T.ma]                        -0.2474      0.022    -11.256      0.000      -0.290      -0.204\n",
      "C(state)[T.md]                        -0.2561      0.025    -10.420      0.000      -0.304      -0.208\n",
      "C(state)[T.me]                        -0.2536      0.038     -6.735      0.000      -0.327      -0.180\n",
      "C(state)[T.mi]                        -0.2109      0.019    -11.152      0.000      -0.248      -0.174\n",
      "C(state)[T.mn]                        -0.2171      0.022    -10.067      0.000      -0.259      -0.175\n",
      "C(state)[T.mo]                        -0.1214      0.022     -5.452      0.000      -0.165      -0.078\n",
      "C(state)[T.ms]                        -0.1737      0.034     -5.060      0.000      -0.241      -0.106\n",
      "C(state)[T.mt]                        -0.1378      0.024     -5.849      0.000      -0.184      -0.092\n",
      "C(state)[T.nc]                        -0.1515      0.020     -7.718      0.000      -0.190      -0.113\n",
      "C(state)[T.nd]                        -0.1082      0.043     -2.506      0.012      -0.193      -0.024\n",
      "C(state)[T.ne]                        -0.2007      0.038     -5.341      0.000      -0.274      -0.127\n",
      "C(state)[T.nh]                        -0.3100      0.030    -10.488      0.000      -0.368      -0.252\n",
      "C(state)[T.nj]                        -0.2932      0.023    -12.743      0.000      -0.338      -0.248\n",
      "C(state)[T.nm]                        -0.0851      0.027     -3.094      0.002      -0.139      -0.031\n",
      "C(state)[T.nv]                        -0.0579      0.033     -1.773      0.076      -0.122       0.006\n",
      "C(state)[T.ny]                        -0.2410      0.019    -12.631      0.000      -0.278      -0.204\n",
      "C(state)[T.oh]                        -0.2454      0.019    -12.763      0.000      -0.283      -0.208\n",
      "C(state)[T.ok]                        -0.1312      0.023     -5.775      0.000      -0.176      -0.087\n",
      "C(state)[T.or]                        -0.1389      0.019     -7.168      0.000      -0.177      -0.101\n",
      "C(state)[T.pa]                        -0.2158      0.019    -11.239      0.000      -0.253      -0.178\n",
      "C(state)[T.ri]                        -0.1695      0.029     -5.748      0.000      -0.227      -0.112\n",
      "C(state)[T.sc]                        -0.1150      0.023     -4.928      0.000      -0.161      -0.069\n",
      "C(state)[T.sd]                        -0.0518      0.033     -1.567      0.117      -0.117       0.013\n",
      "C(state)[T.tn]                        -0.1288      0.020     -6.419      0.000      -0.168      -0.089\n",
      "C(state)[T.tx]                        -0.1049      0.019     -5.635      0.000      -0.141      -0.068\n",
      "C(state)[T.ut]                        -0.1588      0.033     -4.879      0.000      -0.223      -0.095\n",
      "C(state)[T.va]                        -0.2386      0.021    -11.255      0.000      -0.280      -0.197\n",
      "C(state)[T.vt]                        -0.2483      0.030     -8.358      0.000      -0.307      -0.190\n",
      "C(state)[T.wa]                        -0.0385      0.020     -1.886      0.059      -0.079       0.002\n",
      "C(state)[T.wi]                        -0.1784      0.020     -9.130      0.000      -0.217      -0.140\n",
      "C(state)[T.wv]                        -0.2844      0.072     -3.926      0.000      -0.426      -0.142\n",
      "C(state)[T.wy]                        -1.2602      0.057    -22.179      0.000      -1.372      -1.149\n",
      "scale(odometer)                       -0.2316      0.003    -85.387      0.000      -0.237      -0.226\n",
      "==============================================================================\n",
      "Omnibus:                    49108.107   Durbin-Watson:                   1.803\n",
      "Prob(Omnibus):                  0.000   Jarque-Bera (JB):          3694626.951\n",
      "Skew:                           2.620   Prob(JB):                         0.00\n",
      "Kurtosis:                      37.937   Cond. No.                     4.28e+03\n",
      "==============================================================================\n",
      "\n",
      "Warnings:\n",
      "[1] Standard Errors assume that the covariance matrix of the errors is correctly specified.\n",
      "[2] The condition number is large, 4.28e+03. This might indicate that there are\n",
      "strong multicollinearity or other numerical problems.\n"
     ]
    }
   ],
   "source": [
    "model = sm.OLS.from_formula(\"scale(price) ~ C(year)+scale(odometer)+C(manufacturer)+C(cylinders)+C(fuel)+C(title_status)+C(transmission)+C(drive)+C(type)+C(paint_color)+C(state)\", df)\n",
    "\n",
    "result = model.fit()\n",
    "print(result.summary())"
   ]
  },
  {
   "cell_type": "markdown",
   "metadata": {},
   "source": [
    "### 아웃라이어라고 판단되는 데이터전처리 후 Train_test 분리후 성능검사"
   ]
  },
  {
   "cell_type": "code",
   "execution_count": 198,
   "metadata": {},
   "outputs": [],
   "source": [
    "df_new = df[(df['year'] > 2000) &(df_new['odometer'] < 100000)&(df_new[\"price\"] !=0)&(df_new[\"price\"] > 100)]"
   ]
  },
  {
   "cell_type": "code",
   "execution_count": 274,
   "metadata": {},
   "outputs": [
    {
     "name": "stdout",
     "output_type": "stream",
     "text": [
      "                            OLS Regression Results                            \n",
      "==============================================================================\n",
      "Dep. Variable:           scale(price)   R-squared:                       0.673\n",
      "Model:                            OLS   Adj. R-squared:                  0.670\n",
      "Method:                 Least Squares   F-statistic:                     198.2\n",
      "Date:                Thu, 26 Mar 2020   Prob (F-statistic):               0.00\n",
      "Time:                        19:30:28   Log-Likelihood:                -12453.\n",
      "No. Observations:               14485   AIC:                         2.521e+04\n",
      "Df Residuals:                   14335   BIC:                         2.634e+04\n",
      "Df Model:                         149                                         \n",
      "Covariance Type:            nonrobust                                         \n",
      "======================================================================================================\n",
      "                                         coef    std err          t      P>|t|      [0.025      0.975]\n",
      "------------------------------------------------------------------------------------------------------\n",
      "Intercept                              1.3897      0.151      9.209      0.000       1.094       1.685\n",
      "C(year)[T.2002.0]                      0.3149      0.114      2.751      0.006       0.091       0.539\n",
      "C(year)[T.2003.0]                      0.2329      0.115      2.031      0.042       0.008       0.458\n",
      "C(year)[T.2004.0]                      0.2398      0.115      2.090      0.037       0.015       0.465\n",
      "C(year)[T.2005.0]                      0.4726      0.110      4.279      0.000       0.256       0.689\n",
      "C(year)[T.2006.0]                      0.3006      0.110      2.724      0.006       0.084       0.517\n",
      "C(year)[T.2007.0]                      0.5290      0.109      4.857      0.000       0.315       0.742\n",
      "C(year)[T.2008.0]                      0.5743      0.106      5.440      0.000       0.367       0.781\n",
      "C(year)[T.2009.0]                      1.0015      0.110      9.113      0.000       0.786       1.217\n",
      "C(year)[T.2010.0]                      0.8947      0.104      8.593      0.000       0.691       1.099\n",
      "C(year)[T.2011.0]                      0.9851      0.099      9.906      0.000       0.790       1.180\n",
      "C(year)[T.2012.0]                      1.1562      0.097     11.921      0.000       0.966       1.346\n",
      "C(year)[T.2013.0]                      1.3231      0.095     13.930      0.000       1.137       1.509\n",
      "C(year)[T.2014.0]                      1.4505      0.094     15.468      0.000       1.267       1.634\n",
      "C(year)[T.2015.0]                      1.6405      0.093     17.708      0.000       1.459       1.822\n",
      "C(year)[T.2016.0]                      1.7532      0.092     19.047      0.000       1.573       1.934\n",
      "C(year)[T.2017.0]                      1.8462      0.092     20.075      0.000       1.666       2.026\n",
      "C(year)[T.2018.0]                      1.9498      0.092     21.173      0.000       1.769       2.130\n",
      "C(year)[T.2019.0]                      2.1096      0.093     22.735      0.000       1.928       2.291\n",
      "C(year)[T.2020.0]                      2.7111      0.121     22.486      0.000       2.475       2.947\n",
      "C(manufacturer)[T.alfa-romeo]          0.9358      0.226      4.143      0.000       0.493       1.378\n",
      "C(manufacturer)[T.aston-martin]        2.0317      0.582      3.489      0.000       0.890       3.173\n",
      "C(manufacturer)[T.audi]                0.3364      0.072      4.694      0.000       0.196       0.477\n",
      "C(manufacturer)[T.bmw]                 0.5403      0.065      8.298      0.000       0.413       0.668\n",
      "C(manufacturer)[T.buick]              -0.1554      0.072     -2.162      0.031      -0.296      -0.015\n",
      "C(manufacturer)[T.cadillac]            0.2793      0.071      3.959      0.000       0.141       0.418\n",
      "C(manufacturer)[T.chevrolet]          -0.2546      0.061     -4.194      0.000      -0.374      -0.136\n",
      "C(manufacturer)[T.chrysler]           -0.2357      0.073     -3.237      0.001      -0.378      -0.093\n",
      "C(manufacturer)[T.dodge]              -0.4435      0.064     -6.941      0.000      -0.569      -0.318\n",
      "C(manufacturer)[T.ferrari]             5.7559      0.214     26.849      0.000       5.336       6.176\n",
      "C(manufacturer)[T.fiat]               -0.5230      0.102     -5.153      0.000      -0.722      -0.324\n",
      "C(manufacturer)[T.ford]               -0.1276      0.060     -2.112      0.035      -0.246      -0.009\n",
      "C(manufacturer)[T.gmc]                -0.1532      0.065     -2.364      0.018      -0.280      -0.026\n",
      "C(manufacturer)[T.harley-davidson]     0.3751      0.414      0.906      0.365      -0.436       1.186\n",
      "C(manufacturer)[T.honda]              -0.0190      0.063     -0.301      0.763      -0.142       0.104\n",
      "C(manufacturer)[T.hyundai]            -0.3313      0.064     -5.147      0.000      -0.457      -0.205\n",
      "C(manufacturer)[T.infiniti]           -0.1726      0.076     -2.262      0.024      -0.322      -0.023\n",
      "C(manufacturer)[T.jaguar]              0.3307      0.109      3.044      0.002       0.118       0.544\n",
      "C(manufacturer)[T.jeep]               -0.1444      0.063     -2.303      0.021      -0.267      -0.021\n",
      "C(manufacturer)[T.kia]                -0.3395      0.066     -5.127      0.000      -0.469      -0.210\n",
      "C(manufacturer)[T.land rover]         -0.1123      0.415     -0.271      0.786      -0.925       0.700\n",
      "C(manufacturer)[T.lexus]               0.3916      0.075      5.226      0.000       0.245       0.538\n",
      "C(manufacturer)[T.lincoln]             0.1183      0.089      1.321      0.186      -0.057       0.294\n",
      "C(manufacturer)[T.mazda]              -0.0936      0.072     -1.295      0.195      -0.235       0.048\n",
      "C(manufacturer)[T.mercedes-benz]       0.5776      0.068      8.478      0.000       0.444       0.711\n",
      "C(manufacturer)[T.mercury]            -0.2682      0.186     -1.444      0.149      -0.632       0.096\n",
      "C(manufacturer)[T.mini]               -0.0701      0.081     -0.862      0.389      -0.230       0.089\n",
      "C(manufacturer)[T.mitsubishi]         -0.4335      0.088     -4.913      0.000      -0.606      -0.261\n",
      "C(manufacturer)[T.nissan]             -0.3843      0.061     -6.277      0.000      -0.504      -0.264\n",
      "C(manufacturer)[T.pontiac]             0.2534      0.144      1.759      0.079      -0.029       0.536\n",
      "C(manufacturer)[T.ram]                -0.4119      0.065     -6.365      0.000      -0.539      -0.285\n",
      "C(manufacturer)[T.rover]               0.8256      0.101      8.167      0.000       0.627       1.024\n",
      "C(manufacturer)[T.saturn]             -0.0820      0.203     -0.404      0.686      -0.480       0.316\n",
      "C(manufacturer)[T.subaru]             -0.0858      0.068     -1.260      0.208      -0.219       0.048\n",
      "C(manufacturer)[T.tesla]               2.9149      0.248     11.777      0.000       2.430       3.400\n",
      "C(manufacturer)[T.toyota]             -0.0280      0.061     -0.456      0.649      -0.148       0.092\n",
      "C(manufacturer)[T.volkswagen]         -0.3632      0.065     -5.548      0.000      -0.492      -0.235\n",
      "C(manufacturer)[T.volvo]               0.1442      0.120      1.201      0.230      -0.091       0.380\n",
      "C(cylinders)[T.12 cylinders]           2.2418      0.675      3.320      0.001       0.918       3.565\n",
      "C(cylinders)[T.3 cylinders]           -2.2835      0.124    -18.381      0.000      -2.527      -2.040\n",
      "C(cylinders)[T.4 cylinders]           -2.0981      0.100    -20.974      0.000      -2.294      -1.902\n",
      "C(cylinders)[T.5 cylinders]           -1.7696      0.144    -12.270      0.000      -2.052      -1.487\n",
      "C(cylinders)[T.6 cylinders]           -1.4812      0.099    -14.917      0.000      -1.676      -1.287\n",
      "C(cylinders)[T.8 cylinders]           -0.8639      0.099     -8.697      0.000      -1.059      -0.669\n",
      "C(cylinders)[T.other]                 -2.0161      0.115    -17.502      0.000      -2.242      -1.790\n",
      "C(fuel)[T.electric]                   -1.0587      0.126     -8.392      0.000      -1.306      -0.811\n",
      "C(fuel)[T.gas]                        -1.0411      0.025    -41.767      0.000      -1.090      -0.992\n",
      "C(fuel)[T.hybrid]                     -0.7131      0.048    -14.987      0.000      -0.806      -0.620\n",
      "C(fuel)[T.other]                      -1.2302      0.046    -26.747      0.000      -1.320      -1.140\n",
      "C(title_status)[T.lien]                0.0888      0.041      2.170      0.030       0.009       0.169\n",
      "C(title_status)[T.rebuilt]            -0.3505      0.028    -12.695      0.000      -0.405      -0.296\n",
      "C(title_status)[T.salvage]            -0.5900      0.040    -14.876      0.000      -0.668      -0.512\n",
      "C(transmission)[T.manual]              0.2204      0.023      9.471      0.000       0.175       0.266\n",
      "C(transmission)[T.other]              -0.0319      0.021     -1.544      0.123      -0.072       0.009\n",
      "C(drive)[T.fwd]                       -0.3658      0.017    -21.478      0.000      -0.399      -0.332\n",
      "C(drive)[T.rwd]                       -0.3493      0.019    -18.834      0.000      -0.386      -0.313\n",
      "C(type)[T.bus]                        -0.3930      0.271     -1.452      0.146      -0.923       0.137\n",
      "C(type)[T.convertible]                 0.3366      0.037      9.116      0.000       0.264       0.409\n",
      "C(type)[T.coupe]                       0.1733      0.025      6.844      0.000       0.124       0.223\n",
      "C(type)[T.hatchback]                  -0.1882      0.030     -6.207      0.000      -0.248      -0.129\n",
      "C(type)[T.mini-van]                   -0.0302      0.045     -0.675      0.500      -0.118       0.057\n",
      "C(type)[T.offroad]                     0.0915      0.134      0.684      0.494      -0.171       0.354\n",
      "C(type)[T.other]                      -0.1933      0.033     -5.808      0.000      -0.259      -0.128\n",
      "C(type)[T.pickup]                     -0.0507      0.025     -2.049      0.040      -0.099      -0.002\n",
      "C(type)[T.sedan]                      -0.1663      0.016    -10.502      0.000      -0.197      -0.135\n",
      "C(type)[T.truck]                      -0.0327      0.021     -1.564      0.118      -0.074       0.008\n",
      "C(type)[T.van]                        -0.1462      0.032     -4.626      0.000      -0.208      -0.084\n",
      "C(type)[T.wagon]                      -0.1733      0.037     -4.682      0.000      -0.246      -0.101\n",
      "C(paint_color)[T.blue]                -0.0263      0.019     -1.383      0.167      -0.064       0.011\n",
      "C(paint_color)[T.brown]                0.0186      0.041      0.450      0.653      -0.062       0.099\n",
      "C(paint_color)[T.custom]               0.0075      0.033      0.228      0.820      -0.057       0.072\n",
      "C(paint_color)[T.green]                0.0108      0.050      0.215      0.830      -0.088       0.109\n",
      "C(paint_color)[T.grey]                -0.0284      0.017     -1.666      0.096      -0.062       0.005\n",
      "C(paint_color)[T.orange]              -0.0093      0.053     -0.174      0.862      -0.114       0.095\n",
      "C(paint_color)[T.purple]              -0.1156      0.121     -0.957      0.338      -0.352       0.121\n",
      "C(paint_color)[T.red]                 -0.0226      0.018     -1.234      0.217      -0.058       0.013\n",
      "C(paint_color)[T.silver]              -0.0786      0.017     -4.755      0.000      -0.111      -0.046\n",
      "C(paint_color)[T.white]               -0.0154      0.014     -1.070      0.285      -0.044       0.013\n",
      "C(paint_color)[T.yellow]               0.1542      0.062      2.491      0.013       0.033       0.276\n",
      "C(state)[T.al]                         0.0972      0.047      2.076      0.038       0.005       0.189\n",
      "C(state)[T.ar]                        -0.0918      0.052     -1.775      0.076      -0.193       0.010\n",
      "C(state)[T.az]                        -0.0526      0.044     -1.189      0.234      -0.139       0.034\n",
      "C(state)[T.ca]                         0.0273      0.030      0.908      0.364      -0.032       0.086\n",
      "C(state)[T.co]                        -0.0258      0.040     -0.654      0.513      -0.103       0.052\n",
      "C(state)[T.ct]                        -0.2354      0.066     -3.539      0.000      -0.366      -0.105\n",
      "C(state)[T.dc]                        -0.0726      0.074     -0.975      0.330      -0.219       0.073\n",
      "C(state)[T.de]                         0.2067      0.163      1.268      0.205      -0.113       0.526\n",
      "C(state)[T.fl]                        -0.1196      0.034     -3.553      0.000      -0.186      -0.054\n",
      "C(state)[T.ga]                        -0.0915      0.063     -1.442      0.149      -0.216       0.033\n",
      "C(state)[T.hi]                         0.1662      0.038      4.364      0.000       0.092       0.241\n",
      "C(state)[T.ia]                        -0.1150      0.038     -3.041      0.002      -0.189      -0.041\n",
      "C(state)[T.id]                         0.0796      0.044      1.798      0.072      -0.007       0.166\n",
      "C(state)[T.il]                        -0.1738      0.048     -3.649      0.000      -0.267      -0.080\n",
      "C(state)[T.in]                        -0.1419      0.049     -2.913      0.004      -0.237      -0.046\n",
      "C(state)[T.ks]                        -0.0862      0.051     -1.683      0.092      -0.186       0.014\n",
      "C(state)[T.ky]                        -0.0951      0.060     -1.584      0.113      -0.213       0.023\n",
      "C(state)[T.la]                         0.0738      0.066      1.112      0.266      -0.056       0.204\n",
      "C(state)[T.ma]                        -0.1136      0.047     -2.404      0.016      -0.206      -0.021\n",
      "C(state)[T.md]                        -0.1511      0.049     -3.080      0.002      -0.247      -0.055\n",
      "C(state)[T.me]                        -0.2138      0.095     -2.247      0.025      -0.400      -0.027\n",
      "C(state)[T.mi]                        -0.1461      0.034     -4.308      0.000      -0.213      -0.080\n",
      "C(state)[T.mn]                        -0.0950      0.044     -2.149      0.032      -0.182      -0.008\n",
      "C(state)[T.mo]                        -0.0206      0.051     -0.401      0.688      -0.121       0.080\n",
      "C(state)[T.ms]                        -0.0459      0.085     -0.540      0.589      -0.213       0.121\n",
      "C(state)[T.mt]                        -0.0343      0.051     -0.673      0.501      -0.134       0.066\n",
      "C(state)[T.nc]                        -0.0543      0.038     -1.424      0.155      -0.129       0.020\n",
      "C(state)[T.nd]                        -0.0550      0.082     -0.669      0.503      -0.216       0.106\n",
      "C(state)[T.ne]                        -0.0017      0.095     -0.018      0.986      -0.188       0.185\n",
      "C(state)[T.nh]                        -0.2082      0.075     -2.770      0.006      -0.356      -0.061\n",
      "C(state)[T.nj]                        -0.1273      0.048     -2.661      0.008      -0.221      -0.034\n",
      "C(state)[T.nm]                         0.0235      0.059      0.400      0.689      -0.092       0.139\n",
      "C(state)[T.nv]                         0.0941      0.072      1.309      0.191      -0.047       0.235\n",
      "C(state)[T.ny]                        -0.1130      0.035     -3.198      0.001      -0.182      -0.044\n",
      "C(state)[T.oh]                        -0.1657      0.036     -4.585      0.000      -0.236      -0.095\n",
      "C(state)[T.ok]                         0.0848      0.054      1.576      0.115      -0.021       0.190\n",
      "C(state)[T.or]                        -0.0805      0.036     -2.256      0.024      -0.150      -0.011\n",
      "C(state)[T.pa]                        -0.0930      0.039     -2.355      0.019      -0.170      -0.016\n",
      "C(state)[T.ri]                         0.0038      0.073      0.052      0.959      -0.140       0.147\n",
      "C(state)[T.sc]                        -0.0080      0.050     -0.159      0.874      -0.107       0.091\n",
      "C(state)[T.sd]                         0.0476      0.074      0.642      0.521      -0.098       0.193\n",
      "C(state)[T.tn]                        -0.1837      0.039     -4.682      0.000      -0.261      -0.107\n",
      "C(state)[T.tx]                         0.0410      0.034      1.203      0.229      -0.026       0.108\n",
      "C(state)[T.ut]                        -0.1049      0.064     -1.652      0.099      -0.229       0.020\n",
      "C(state)[T.va]                        -0.0869      0.053     -1.637      0.102      -0.191       0.017\n",
      "C(state)[T.vt]                        -0.0922      0.068     -1.352      0.176      -0.226       0.042\n",
      "C(state)[T.wa]                         0.0166      0.034      0.488      0.626      -0.050       0.083\n",
      "C(state)[T.wi]                        -0.0930      0.038     -2.444      0.015      -0.168      -0.018\n",
      "C(state)[T.wv]                        -0.0509      0.259     -0.196      0.844      -0.558       0.457\n",
      "C(state)[T.wy]                        -1.4419      0.095    -15.187      0.000      -1.628      -1.256\n",
      "scale(odometer)                       -0.1096      0.005    -19.990      0.000      -0.120      -0.099\n",
      "==============================================================================\n",
      "Omnibus:                     8246.671   Durbin-Watson:                   1.842\n",
      "Prob(Omnibus):                  0.000   Jarque-Bera (JB):           434429.486\n",
      "Skew:                           2.014   Prob(JB):                         0.00\n",
      "Kurtosis:                      29.525   Cond. No.                         310.\n",
      "==============================================================================\n",
      "\n",
      "Warnings:\n",
      "[1] Standard Errors assume that the covariance matrix of the errors is correctly specified.\n"
     ]
    }
   ],
   "source": [
    "model = sm.OLS.from_formula(\"scale(price) ~ C(year)+scale(odometer)+C(manufacturer)+C(cylinders)+C(fuel)+C(title_status)+C(transmission)+C(drive)+C(type)+C(paint_color)+C(state)\", df_new)\n",
    "\n",
    "result = model.fit()\n",
    "print(result.summary())"
   ]
  },
  {
   "cell_type": "code",
   "execution_count": 119,
   "metadata": {},
   "outputs": [],
   "source": [
    "from sklearn.model_selection import train_test_split"
   ]
  },
  {
   "cell_type": "code",
   "execution_count": 137,
   "metadata": {},
   "outputs": [],
   "source": [
    "X = df_new.drop([\"price\"], axis=1)\n",
    "y = df_new.price\n"
   ]
  },
  {
   "cell_type": "code",
   "execution_count": 126,
   "metadata": {},
   "outputs": [],
   "source": [
    "label = X.columns"
   ]
  },
  {
   "cell_type": "code",
   "execution_count": 164,
   "metadata": {},
   "outputs": [
    {
     "data": {
      "text/plain": [
       "71047"
      ]
     },
     "execution_count": 164,
     "metadata": {},
     "output_type": "execute_result"
    }
   ],
   "source": [
    "len(df)"
   ]
  },
  {
   "cell_type": "code",
   "execution_count": 279,
   "metadata": {},
   "outputs": [],
   "source": [
    "X_train, X_test= train_test_split(df_new, test_size=0.2,random_state= 9 )\n"
   ]
  },
  {
   "cell_type": "code",
   "execution_count": 302,
   "metadata": {},
   "outputs": [
    {
     "name": "stdout",
     "output_type": "stream",
     "text": [
      "                            OLS Regression Results                            \n",
      "==============================================================================\n",
      "Dep. Variable:                  price   R-squared:                       0.671\n",
      "Model:                            OLS   Adj. R-squared:                  0.668\n",
      "Method:                 Least Squares   F-statistic:                     170.8\n",
      "Date:                Thu, 26 Mar 2020   Prob (F-statistic):               0.00\n",
      "Time:                        19:45:18   Log-Likelihood:            -1.1860e+05\n",
      "No. Observations:               11588   AIC:                         2.375e+05\n",
      "Df Residuals:                   11450   BIC:                         2.385e+05\n",
      "Df Model:                         137                                         \n",
      "Covariance Type:            nonrobust                                         \n",
      "======================================================================================================\n",
      "                                         coef    std err          t      P>|t|      [0.025      0.975]\n",
      "------------------------------------------------------------------------------------------------------\n",
      "Intercept                            4.11e+04   1999.156     20.561      0.000    3.72e+04     4.5e+04\n",
      "C(year)[T.2002.0]                   4292.4995   1512.947      2.837      0.005    1326.865    7258.135\n",
      "C(year)[T.2003.0]                   3217.7890   1515.092      2.124      0.034     247.949    6187.629\n",
      "C(year)[T.2004.0]                   3033.1473   1509.140      2.010      0.044      74.975    5991.320\n",
      "C(year)[T.2005.0]                   6416.6302   1486.367      4.317      0.000    3503.096    9330.164\n",
      "C(year)[T.2006.0]                   4126.5683   1451.228      2.844      0.004    1281.913    6971.224\n",
      "C(year)[T.2007.0]                   6598.1165   1430.472      4.613      0.000    3794.147    9402.086\n",
      "C(year)[T.2008.0]                   6456.8704   1408.656      4.584      0.000    3695.664    9218.076\n",
      "C(year)[T.2009.0]                   1.222e+04   1475.115      8.284      0.000    9328.099    1.51e+04\n",
      "C(year)[T.2010.0]                   1.079e+04   1400.414      7.708      0.000    8049.277    1.35e+04\n",
      "C(year)[T.2011.0]                    1.15e+04   1318.130      8.722      0.000    8912.339    1.41e+04\n",
      "C(year)[T.2012.0]                   1.309e+04   1289.374     10.154      0.000    1.06e+04    1.56e+04\n",
      "C(year)[T.2013.0]                    1.56e+04   1264.274     12.340      0.000    1.31e+04    1.81e+04\n",
      "C(year)[T.2014.0]                   1.694e+04   1247.317     13.577      0.000    1.45e+04    1.94e+04\n",
      "C(year)[T.2015.0]                   1.911e+04   1231.442     15.521      0.000    1.67e+04    2.15e+04\n",
      "C(year)[T.2016.0]                   2.036e+04   1223.545     16.637      0.000     1.8e+04    2.28e+04\n",
      "C(year)[T.2017.0]                   2.141e+04   1222.431     17.515      0.000     1.9e+04    2.38e+04\n",
      "C(year)[T.2018.0]                   2.262e+04   1223.722     18.488      0.000    2.02e+04     2.5e+04\n",
      "C(year)[T.2019.0]                   2.419e+04   1232.411     19.626      0.000    2.18e+04    2.66e+04\n",
      "C(year)[T.2020.0]                   3.042e+04   1597.093     19.050      0.000    2.73e+04    3.36e+04\n",
      "C(manufacturer)[T.alfa-romeo]       8492.1937   2884.158      2.944      0.003    2838.751    1.41e+04\n",
      "C(manufacturer)[T.aston-martin]     2.816e+04   6883.877      4.091      0.000    1.47e+04    4.17e+04\n",
      "C(manufacturer)[T.audi]             4413.5693    928.942      4.751      0.000    2592.683    6234.455\n",
      "C(manufacturer)[T.bmw]              6873.5782    846.069      8.124      0.000    5215.137    8532.019\n",
      "C(manufacturer)[T.buick]            -900.6695    942.625     -0.955      0.339   -2748.375     947.036\n",
      "C(manufacturer)[T.cadillac]         3478.8815    918.497      3.788      0.000    1678.470    5279.293\n",
      "C(manufacturer)[T.chevrolet]       -2222.4858    787.235     -2.823      0.005   -3765.601    -679.371\n",
      "C(manufacturer)[T.chrysler]        -2403.3904    940.072     -2.557      0.011   -4246.092    -560.688\n",
      "C(manufacturer)[T.dodge]           -4158.9572    826.769     -5.030      0.000   -5779.566   -2538.348\n",
      "C(manufacturer)[T.ferrari]          7.103e+04   2543.958     27.921      0.000     6.6e+04     7.6e+04\n",
      "C(manufacturer)[T.fiat]            -4313.4018   1328.627     -3.247      0.001   -6917.737   -1709.066\n",
      "C(manufacturer)[T.ford]            -1050.3531    782.896     -1.342      0.180   -2584.962     484.256\n",
      "C(manufacturer)[T.gmc]             -1114.8396    837.422     -1.331      0.183   -2756.329     526.650\n",
      "C(manufacturer)[T.harley-davidson]  3239.2032   4896.329      0.662      0.508   -6358.440    1.28e+04\n",
      "C(manufacturer)[T.honda]             483.5126    817.194      0.592      0.554   -1118.327    2085.353\n",
      "C(manufacturer)[T.hyundai]         -3428.0528    842.228     -4.070      0.000   -5078.964   -1777.142\n",
      "C(manufacturer)[T.infiniti]        -1671.3649    991.619     -1.685      0.092   -3615.108     272.378\n",
      "C(manufacturer)[T.jaguar]           6047.8456   1417.068      4.268      0.000    3270.150    8825.541\n",
      "C(manufacturer)[T.jeep]             -813.6825    812.479     -1.001      0.317   -2406.280     778.915\n",
      "C(manufacturer)[T.kia]             -3341.5026    858.229     -3.893      0.000   -5023.778   -1659.227\n",
      "C(manufacturer)[T.land rover]        314.6884   4912.784      0.064      0.949   -9315.209    9944.586\n",
      "C(manufacturer)[T.lexus]            4403.7269    974.578      4.519      0.000    2493.386    6314.067\n",
      "C(manufacturer)[T.lincoln]          1090.8000   1214.578      0.898      0.369   -1289.980    3471.580\n",
      "C(manufacturer)[T.mazda]            -477.0534    936.872     -0.509      0.611   -2313.482    1359.375\n",
      "C(manufacturer)[T.mercedes-benz]    6580.2854    889.519      7.398      0.000    4836.676    8323.895\n",
      "C(manufacturer)[T.mercury]         -1872.5346   2542.450     -0.737      0.461   -6856.172    3111.103\n",
      "C(manufacturer)[T.mini]              924.1526   1063.655      0.869      0.385   -1160.793    3009.098\n",
      "C(manufacturer)[T.mitsubishi]      -4195.8338   1180.497     -3.554      0.000   -6509.809   -1881.858\n",
      "C(manufacturer)[T.nissan]          -4183.7367    795.062     -5.262      0.000   -5742.195   -2625.278\n",
      "C(manufacturer)[T.pontiac]          4538.9124   2431.726      1.867      0.062    -227.687    9305.512\n",
      "C(manufacturer)[T.ram]             -4240.5879    830.792     -5.104      0.000   -5869.082   -2612.094\n",
      "C(manufacturer)[T.rover]             1.02e+04   1283.913      7.947      0.000    7686.306    1.27e+04\n",
      "C(manufacturer)[T.saturn]           1430.7111   2559.189      0.559      0.576   -3585.737    6447.159\n",
      "C(manufacturer)[T.subaru]           -985.7172    883.299     -1.116      0.264   -2717.135     745.701\n",
      "C(manufacturer)[T.tesla]              3.1e+04   3393.160      9.136      0.000    2.43e+04    3.77e+04\n",
      "C(manufacturer)[T.toyota]            174.3493    796.507      0.219      0.827   -1386.940    1735.638\n",
      "C(manufacturer)[T.volkswagen]      -3528.5526    854.838     -4.128      0.000   -5204.182   -1852.923\n",
      "C(manufacturer)[T.volvo]            1911.3122   1543.162      1.239      0.216   -1113.549    4936.173\n",
      "C(cylinders)[T.12 cylinders]        2.768e+04   8463.283      3.271      0.001    1.11e+04    4.43e+04\n",
      "C(cylinders)[T.3 cylinders]        -3.105e+04   1628.250    -19.070      0.000   -3.42e+04   -2.79e+04\n",
      "C(cylinders)[T.4 cylinders]         -2.77e+04   1314.485    -21.074      0.000   -3.03e+04   -2.51e+04\n",
      "C(cylinders)[T.5 cylinders]        -2.365e+04   1827.005    -12.943      0.000   -2.72e+04   -2.01e+04\n",
      "C(cylinders)[T.6 cylinders]        -2.022e+04   1307.129    -15.473      0.000   -2.28e+04   -1.77e+04\n",
      "C(cylinders)[T.8 cylinders]        -1.294e+04   1308.252     -9.889      0.000   -1.55e+04   -1.04e+04\n",
      "C(cylinders)[T.other]              -2.652e+04   1509.785    -17.569      0.000   -2.95e+04   -2.36e+04\n",
      "C(fuel)[T.electric]                -1.339e+04   1720.152     -7.783      0.000   -1.68e+04      -1e+04\n",
      "C(fuel)[T.gas]                     -1.189e+04    317.922    -37.386      0.000   -1.25e+04   -1.13e+04\n",
      "C(fuel)[T.hybrid]                  -8980.0297    631.244    -14.226      0.000   -1.02e+04   -7742.683\n",
      "C(fuel)[T.other]                   -1.437e+04    585.780    -24.533      0.000   -1.55e+04   -1.32e+04\n",
      "C(title_status)[T.lien]             1414.7723    537.579      2.632      0.009     361.026    2468.519\n",
      "C(title_status)[T.rebuilt]         -4204.8820    360.329    -11.670      0.000   -4911.188   -3498.576\n",
      "C(title_status)[T.salvage]         -6799.0772    523.371    -12.991      0.000   -7824.975   -5773.180\n",
      "C(transmission)[T.manual]           3018.6005    298.200     10.123      0.000    2434.077    3603.124\n",
      "C(transmission)[T.other]            -421.7409    262.930     -1.604      0.109    -937.128      93.646\n",
      "C(drive)[T.fwd]                    -5141.3292    192.373    -26.726      0.000   -5518.413   -4764.245\n",
      "C(drive)[T.rwd]                    -3662.0526    209.931    -17.444      0.000   -4073.554   -3250.551\n",
      "C(paint_color)[T.blue]              -390.8521    251.408     -1.555      0.120    -883.655     101.951\n",
      "C(paint_color)[T.brown]               98.1713    542.440      0.181      0.856    -965.103    1161.446\n",
      "C(paint_color)[T.custom]            -143.9010    427.782     -0.336      0.737    -982.427     694.625\n",
      "C(paint_color)[T.green]              252.4225    664.395      0.380      0.704   -1049.906    1554.751\n",
      "C(paint_color)[T.grey]              -456.4583    225.159     -2.027      0.043    -897.808     -15.109\n",
      "C(paint_color)[T.orange]             235.2947    699.566      0.336      0.737   -1135.975    1606.564\n",
      "C(paint_color)[T.purple]           -1928.8973   1570.169     -1.228      0.219   -5006.697    1148.902\n",
      "C(paint_color)[T.red]               -226.7503    241.980     -0.937      0.349    -701.073     247.573\n",
      "C(paint_color)[T.silver]           -1064.0267    217.995     -4.881      0.000   -1491.333    -636.720\n",
      "C(paint_color)[T.white]             -399.8812    188.405     -2.122      0.034    -769.188     -30.575\n",
      "C(paint_color)[T.yellow]            2311.9416    780.140      2.963      0.003     782.733    3841.150\n",
      "C(state)[T.al]                      1589.0584    613.700      2.589      0.010     386.101    2792.016\n",
      "C(state)[T.ar]                      -393.0504    671.064     -0.586      0.558   -1708.450     922.349\n",
      "C(state)[T.az]                      -205.2010    575.022     -0.357      0.721   -1332.343     921.941\n",
      "C(state)[T.ca]                       499.5979    394.159      1.268      0.205    -273.020    1272.216\n",
      "C(state)[T.co]                       291.0648    521.886      0.558      0.577    -731.922    1314.051\n",
      "C(state)[T.ct]                     -3577.6984    896.253     -3.992      0.000   -5334.508   -1820.888\n",
      "C(state)[T.dc]                      -928.7812    998.867     -0.930      0.352   -2886.732    1029.169\n",
      "C(state)[T.de]                      1024.6145   2010.744      0.510      0.610   -2916.788    4966.017\n",
      "C(state)[T.fl]                     -1174.0036    441.489     -2.659      0.008   -2039.397    -308.610\n",
      "C(state)[T.ga]                      -854.5803    815.126     -1.048      0.294   -2452.367     743.206\n",
      "C(state)[T.hi]                      2100.7433    501.611      4.188      0.000    1117.499    3083.987\n",
      "C(state)[T.ia]                     -1478.2064    499.502     -2.959      0.003   -2457.316    -499.097\n",
      "C(state)[T.id]                      1133.8605    585.307      1.937      0.053     -13.442    2281.163\n",
      "C(state)[T.il]                     -1789.4107    634.350     -2.821      0.005   -3032.845    -545.976\n",
      "C(state)[T.in]                     -1842.9128    630.080     -2.925      0.003   -3077.977    -607.849\n",
      "C(state)[T.ks]                      -741.9051    668.997     -1.109      0.267   -2053.254     569.444\n",
      "C(state)[T.ky]                     -1236.7606    788.479     -1.569      0.117   -2782.314     308.792\n",
      "C(state)[T.la]                       494.8808    879.595      0.563      0.574   -1229.277    2219.038\n",
      "C(state)[T.ma]                     -1159.5878    616.282     -1.882      0.060   -2367.607      48.431\n",
      "C(state)[T.md]                     -2078.9878    663.307     -3.134      0.002   -3379.183    -778.793\n",
      "C(state)[T.me]                     -2099.9042   1220.917     -1.720      0.085   -4493.110     293.302\n",
      "C(state)[T.mi]                     -1730.9359    447.142     -3.871      0.000   -2607.410    -854.462\n",
      "C(state)[T.mn]                     -1224.1228    580.901     -2.107      0.035   -2362.788     -85.457\n",
      "C(state)[T.mo]                       213.3552    685.178      0.311      0.756   -1129.711    1556.421\n",
      "C(state)[T.ms]                       -35.6884   1063.084     -0.034      0.973   -2119.516    2048.139\n",
      "C(state)[T.mt]                       -96.9571    679.123     -0.143      0.886   -1428.155    1234.241\n",
      "C(state)[T.nc]                      -479.1005    509.340     -0.941      0.347   -1477.494     519.293\n",
      "C(state)[T.nd]                     -1401.2862   1073.128     -1.306      0.192   -3504.801     702.229\n",
      "C(state)[T.ne]                      -179.2097   1251.711     -0.143      0.886   -2632.777    2274.357\n",
      "C(state)[T.nh]                     -1622.5691    995.987     -1.629      0.103   -3574.875     329.737\n",
      "C(state)[T.nj]                     -1563.3697    628.456     -2.488      0.013   -2795.250    -331.489\n",
      "C(state)[T.nm]                       332.5765    779.860      0.426      0.670   -1196.083    1861.236\n",
      "C(state)[T.nv]                      1050.5453    975.483      1.077      0.282    -861.568    2962.658\n",
      "C(state)[T.ny]                     -1287.1239    468.427     -2.748      0.006   -2205.321    -368.927\n",
      "C(state)[T.oh]                     -2076.8350    476.876     -4.355      0.000   -3011.593   -1142.077\n",
      "C(state)[T.ok]                       919.2061    704.064      1.306      0.192    -460.879    2299.291\n",
      "C(state)[T.or]                      -667.3717    469.004     -1.423      0.155   -1586.701     251.957\n",
      "C(state)[T.pa]                     -1248.8885    520.591     -2.399      0.016   -2269.336    -228.441\n",
      "C(state)[T.ri]                       -14.4443    960.581     -0.015      0.988   -1897.347    1868.459\n",
      "C(state)[T.sc]                      -699.9171    652.204     -1.073      0.283   -1978.349     578.515\n",
      "C(state)[T.sd]                       455.6859    986.668      0.462      0.644   -1478.353    2389.724\n",
      "C(state)[T.tn]                     -2169.8916    512.184     -4.237      0.000   -3173.860   -1165.923\n",
      "C(state)[T.tx]                       770.6701    447.161      1.723      0.085    -105.842    1647.182\n",
      "C(state)[T.ut]                     -1395.5233    850.364     -1.641      0.101   -3062.383     271.336\n",
      "C(state)[T.va]                     -1025.6222    702.218     -1.461      0.144   -2402.090     350.845\n",
      "C(state)[T.vt]                     -1355.9460    896.288     -1.513      0.130   -3112.825     400.933\n",
      "C(state)[T.wa]                       310.4403    447.572      0.694      0.488    -566.877    1187.758\n",
      "C(state)[T.wi]                     -1012.1592    500.019     -2.024      0.043   -1992.282     -32.036\n",
      "C(state)[T.wv]                      -604.6279   3059.955     -0.198      0.843   -6602.664    5393.408\n",
      "C(state)[T.wy]                     -1.728e+04   1203.184    -14.358      0.000   -1.96e+04   -1.49e+04\n",
      "scale(odometer)                    -1347.6351     72.111    -18.688      0.000   -1488.985   -1206.285\n",
      "==============================================================================\n",
      "Omnibus:                     4112.653   Durbin-Watson:                   2.017\n",
      "Prob(Omnibus):                  0.000   Jarque-Bera (JB):            57861.059\n",
      "Skew:                           1.310   Prob(JB):                         0.00\n",
      "Kurtosis:                      13.629   Cond. No.                         278.\n",
      "==============================================================================\n",
      "\n",
      "Warnings:\n",
      "[1] Standard Errors assume that the covariance matrix of the errors is correctly specified.\n"
     ]
    }
   ],
   "source": [
    "model = sm.OLS.from_formula(\"price ~ C(year) + scale(odometer)+C(manufacturer)+C(cylinders)+C(fuel)+C(title_status)+C(transmission)+C(drive)+C(type)+C(paint_color)+C(state)\", data=X_train)\n",
    "result = model.fit()\n",
    "print(result.summary())"
   ]
  },
  {
   "cell_type": "markdown",
   "metadata": {},
   "source": [
    "### 예측 R2 score 성능"
   ]
  },
  {
   "cell_type": "code",
   "execution_count": 303,
   "metadata": {},
   "outputs": [
    {
     "data": {
      "text/plain": [
       "0.6245412030448552"
      ]
     },
     "execution_count": 303,
     "metadata": {},
     "output_type": "execute_result"
    }
   ],
   "source": [
    "pred = result.predict(X_test)\n",
    "\n",
    "rss = ((X_test.price - pred) ** 2).sum()\n",
    "tss = ((X_test.price - X_test.price.mean())** 2).sum()\n",
    "rsquared = 1 - rss / tss\n",
    "rsquared\n",
    "\n",
    "#from sklearn.metrics import r2_score\n",
    "#r2_score(X_test['price'],pred)"
   ]
  },
  {
   "cell_type": "code",
   "execution_count": 304,
   "metadata": {},
   "outputs": [
    {
     "data": {
      "text/plain": [
       "<matplotlib.collections.PathCollection at 0x1b7f9669e88>"
      ]
     },
     "execution_count": 304,
     "metadata": {},
     "output_type": "execute_result"
    },
    {
     "data": {
      "image/png": "[encoded data removed]",
      "text/plain": [
       "<Figure size 432x288 with 1 Axes>"
      ]
     },
     "metadata": {
      "image/png": {
       "height": 252,
       "width": 401
      },
      "needs_background": "light"
     },
     "output_type": "display_data"
    }
   ],
   "source": [
    "plt.scatter(X_test['price'],pred)"
   ]
  },
  {
   "cell_type": "code",
   "execution_count": 305,
   "metadata": {},
   "outputs": [
    {
     "data": {
      "text/plain": [
       "-5292.099012461047"
      ]
     },
     "execution_count": 305,
     "metadata": {},
     "output_type": "execute_result"
    }
   ],
   "source": [
    "pred.min()"
   ]
  },
  {
   "cell_type": "code",
   "execution_count": 306,
   "metadata": {},
   "outputs": [
    {
     "data": {
      "text/plain": [
       "147804   -5292.099012\n",
       "dtype: float64"
      ]
     },
     "execution_count": 306,
     "metadata": {},
     "output_type": "execute_result"
    }
   ],
   "source": [
    "pred[pred == -5292.099012461047]"
   ]
  },
  {
   "cell_type": "markdown",
   "metadata": {},
   "source": [
    "### pred 값이 0이하인 데이터"
   ]
  },
  {
   "cell_type": "code",
   "execution_count": 307,
   "metadata": {},
   "outputs": [
    {
     "data": {
      "text/html": [
       "<div>\n",
       "<style scoped>\n",
       "    .dataframe tbody tr th:only-of-type {\n",
       "        vertical-align: middle;\n",
       "    }\n",
       "\n",
       "    .dataframe tbody tr th {\n",
       "        vertical-align: top;\n",
       "    }\n",
       "\n",
       "    .dataframe thead th {\n",
       "        text-align: right;\n",
       "    }\n",
       "</style>\n",
       "<table border=\"1\" class=\"dataframe\">\n",
       "  <thead>\n",
       "    <tr style=\"text-align: right;\">\n",
       "      <th></th>\n",
       "      <th>id</th>\n",
       "      <th>model</th>\n",
       "      <th>price</th>\n",
       "      <th>year</th>\n",
       "      <th>manufacturer</th>\n",
       "      <th>cylinders</th>\n",
       "      <th>fuel</th>\n",
       "      <th>odometer</th>\n",
       "      <th>title_status</th>\n",
       "      <th>transmission</th>\n",
       "      <th>drive</th>\n",
       "      <th>type</th>\n",
       "      <th>paint_color</th>\n",
       "      <th>state</th>\n",
       "      <th>vin</th>\n",
       "    </tr>\n",
       "  </thead>\n",
       "  <tbody>\n",
       "    <tr>\n",
       "      <td>147804</td>\n",
       "      <td>7046696691</td>\n",
       "      <td>altima</td>\n",
       "      <td>6995</td>\n",
       "      <td>2008.0</td>\n",
       "      <td>nissan</td>\n",
       "      <td>4 cylinders</td>\n",
       "      <td>gas</td>\n",
       "      <td>30700.0</td>\n",
       "      <td>clean</td>\n",
       "      <td>automatic</td>\n",
       "      <td>fwd</td>\n",
       "      <td>coupe</td>\n",
       "      <td>red</td>\n",
       "      <td>ct</td>\n",
       "      <td>1N4AL24EX8C264713</td>\n",
       "    </tr>\n",
       "  </tbody>\n",
       "</table>\n",
       "</div>"
      ],
      "text/plain": [
       "                id   model  price    year manufacturer    cylinders fuel  \\\n",
       "147804  7046696691  altima   6995  2008.0       nissan  4 cylinders  gas   \n",
       "\n",
       "        odometer title_status transmission drive   type paint_color state  \\\n",
       "147804   30700.0        clean    automatic   fwd  coupe         red    ct   \n",
       "\n",
       "                      vin  \n",
       "147804  1N4AL24EX8C264713  "
      ]
     },
     "execution_count": 307,
     "metadata": {},
     "output_type": "execute_result"
    }
   ],
   "source": [
    "df_new[df_new.index == 147804]"
   ]
  },
  {
   "cell_type": "code",
   "execution_count": 301,
   "metadata": {},
   "outputs": [
    {
     "data": {
      "text/html": [
       "<div>\n",
       "<style scoped>\n",
       "    .dataframe tbody tr th:only-of-type {\n",
       "        vertical-align: middle;\n",
       "    }\n",
       "\n",
       "    .dataframe tbody tr th {\n",
       "        vertical-align: top;\n",
       "    }\n",
       "\n",
       "    .dataframe thead th {\n",
       "        text-align: right;\n",
       "    }\n",
       "</style>\n",
       "<table border=\"1\" class=\"dataframe\">\n",
       "  <thead>\n",
       "    <tr style=\"text-align: right;\">\n",
       "      <th></th>\n",
       "      <th>id</th>\n",
       "      <th>model</th>\n",
       "      <th>price</th>\n",
       "      <th>year</th>\n",
       "      <th>manufacturer</th>\n",
       "      <th>cylinders</th>\n",
       "      <th>fuel</th>\n",
       "      <th>odometer</th>\n",
       "      <th>title_status</th>\n",
       "      <th>transmission</th>\n",
       "      <th>drive</th>\n",
       "      <th>type</th>\n",
       "      <th>paint_color</th>\n",
       "      <th>state</th>\n",
       "      <th>vin</th>\n",
       "    </tr>\n",
       "  </thead>\n",
       "  <tbody>\n",
       "    <tr>\n",
       "      <td>264270</td>\n",
       "      <td>7041412980</td>\n",
       "      <td>altima</td>\n",
       "      <td>2500</td>\n",
       "      <td>2003.0</td>\n",
       "      <td>nissan</td>\n",
       "      <td>4 cylinders</td>\n",
       "      <td>gas</td>\n",
       "      <td>501.0</td>\n",
       "      <td>clean</td>\n",
       "      <td>automatic</td>\n",
       "      <td>fwd</td>\n",
       "      <td>sedan</td>\n",
       "      <td>red</td>\n",
       "      <td>md</td>\n",
       "      <td>1N4AL11E13C331674</td>\n",
       "    </tr>\n",
       "  </tbody>\n",
       "</table>\n",
       "</div>"
      ],
      "text/plain": [
       "                id   model  price    year manufacturer    cylinders fuel  \\\n",
       "264270  7041412980  altima   2500  2003.0       nissan  4 cylinders  gas   \n",
       "\n",
       "        odometer title_status transmission drive   type paint_color state  \\\n",
       "264270     501.0        clean    automatic   fwd  sedan         red    md   \n",
       "\n",
       "                      vin  \n",
       "264270  1N4AL11E13C331674  "
      ]
     },
     "execution_count": 301,
     "metadata": {},
     "output_type": "execute_result"
    }
   ],
   "source": [
    "df_new[df_new.index == 264270]"
   ]
  },
  {
   "cell_type": "code",
   "execution_count": 295,
   "metadata": {},
   "outputs": [
    {
     "data": {
      "text/html": [
       "<div>\n",
       "<style scoped>\n",
       "    .dataframe tbody tr th:only-of-type {\n",
       "        vertical-align: middle;\n",
       "    }\n",
       "\n",
       "    .dataframe tbody tr th {\n",
       "        vertical-align: top;\n",
       "    }\n",
       "\n",
       "    .dataframe thead th {\n",
       "        text-align: right;\n",
       "    }\n",
       "</style>\n",
       "<table border=\"1\" class=\"dataframe\">\n",
       "  <thead>\n",
       "    <tr style=\"text-align: right;\">\n",
       "      <th></th>\n",
       "      <th>id</th>\n",
       "      <th>model</th>\n",
       "      <th>price</th>\n",
       "      <th>year</th>\n",
       "      <th>manufacturer</th>\n",
       "      <th>cylinders</th>\n",
       "      <th>fuel</th>\n",
       "      <th>odometer</th>\n",
       "      <th>title_status</th>\n",
       "      <th>transmission</th>\n",
       "      <th>drive</th>\n",
       "      <th>type</th>\n",
       "      <th>paint_color</th>\n",
       "      <th>state</th>\n",
       "      <th>vin</th>\n",
       "    </tr>\n",
       "  </thead>\n",
       "  <tbody>\n",
       "    <tr>\n",
       "      <td>157443</td>\n",
       "      <td>7042747901</td>\n",
       "      <td>express 1500 cargo van</td>\n",
       "      <td>5000</td>\n",
       "      <td>2002.0</td>\n",
       "      <td>chevrolet</td>\n",
       "      <td>6 cylinders</td>\n",
       "      <td>gas</td>\n",
       "      <td>29000.0</td>\n",
       "      <td>salvage</td>\n",
       "      <td>automatic</td>\n",
       "      <td>rwd</td>\n",
       "      <td>van</td>\n",
       "      <td>grey</td>\n",
       "      <td>fl</td>\n",
       "      <td>1GCFG15W021122797</td>\n",
       "    </tr>\n",
       "  </tbody>\n",
       "</table>\n",
       "</div>"
      ],
      "text/plain": [
       "                id                   model  price    year manufacturer  \\\n",
       "157443  7042747901  express 1500 cargo van   5000  2002.0    chevrolet   \n",
       "\n",
       "          cylinders fuel  odometer title_status transmission drive type  \\\n",
       "157443  6 cylinders  gas   29000.0      salvage    automatic   rwd  van   \n",
       "\n",
       "       paint_color state                vin  \n",
       "157443        grey    fl  1GCFG15W021122797  "
      ]
     },
     "execution_count": 295,
     "metadata": {},
     "output_type": "execute_result"
    }
   ],
   "source": [
    "df_new[df_new.index == 157443]"
   ]
  },
  {
   "cell_type": "code",
   "execution_count": 285,
   "metadata": {},
   "outputs": [
    {
     "data": {
      "text/html": [
       "<div>\n",
       "<style scoped>\n",
       "    .dataframe tbody tr th:only-of-type {\n",
       "        vertical-align: middle;\n",
       "    }\n",
       "\n",
       "    .dataframe tbody tr th {\n",
       "        vertical-align: top;\n",
       "    }\n",
       "\n",
       "    .dataframe thead th {\n",
       "        text-align: right;\n",
       "    }\n",
       "</style>\n",
       "<table border=\"1\" class=\"dataframe\">\n",
       "  <thead>\n",
       "    <tr style=\"text-align: right;\">\n",
       "      <th></th>\n",
       "      <th>id</th>\n",
       "      <th>model</th>\n",
       "      <th>price</th>\n",
       "      <th>year</th>\n",
       "      <th>manufacturer</th>\n",
       "      <th>cylinders</th>\n",
       "      <th>fuel</th>\n",
       "      <th>odometer</th>\n",
       "      <th>title_status</th>\n",
       "      <th>transmission</th>\n",
       "      <th>drive</th>\n",
       "      <th>type</th>\n",
       "      <th>paint_color</th>\n",
       "      <th>state</th>\n",
       "      <th>vin</th>\n",
       "    </tr>\n",
       "  </thead>\n",
       "  <tbody>\n",
       "    <tr>\n",
       "      <td>264270</td>\n",
       "      <td>7041412980</td>\n",
       "      <td>altima</td>\n",
       "      <td>2500</td>\n",
       "      <td>2003.0</td>\n",
       "      <td>nissan</td>\n",
       "      <td>4 cylinders</td>\n",
       "      <td>gas</td>\n",
       "      <td>501.0</td>\n",
       "      <td>clean</td>\n",
       "      <td>automatic</td>\n",
       "      <td>fwd</td>\n",
       "      <td>sedan</td>\n",
       "      <td>red</td>\n",
       "      <td>md</td>\n",
       "      <td>1N4AL11E13C331674</td>\n",
       "    </tr>\n",
       "  </tbody>\n",
       "</table>\n",
       "</div>"
      ],
      "text/plain": [
       "                id   model  price    year manufacturer    cylinders fuel  \\\n",
       "264270  7041412980  altima   2500  2003.0       nissan  4 cylinders  gas   \n",
       "\n",
       "        odometer title_status transmission drive   type paint_color state  \\\n",
       "264270     501.0        clean    automatic   fwd  sedan         red    md   \n",
       "\n",
       "                      vin  \n",
       "264270  1N4AL11E13C331674  "
      ]
     },
     "execution_count": 285,
     "metadata": {},
     "output_type": "execute_result"
    }
   ],
   "source": [
    "df_new[df_new.index == 264270]"
   ]
  },
  {
   "cell_type": "code",
   "execution_count": 208,
   "metadata": {},
   "outputs": [
    {
     "data": {
      "text/html": [
       "<div>\n",
       "<style scoped>\n",
       "    .dataframe tbody tr th:only-of-type {\n",
       "        vertical-align: middle;\n",
       "    }\n",
       "\n",
       "    .dataframe tbody tr th {\n",
       "        vertical-align: top;\n",
       "    }\n",
       "\n",
       "    .dataframe thead th {\n",
       "        text-align: right;\n",
       "    }\n",
       "</style>\n",
       "<table border=\"1\" class=\"dataframe\">\n",
       "  <thead>\n",
       "    <tr style=\"text-align: right;\">\n",
       "      <th></th>\n",
       "      <th>id</th>\n",
       "      <th>model</th>\n",
       "      <th>price</th>\n",
       "      <th>year</th>\n",
       "      <th>manufacturer</th>\n",
       "      <th>cylinders</th>\n",
       "      <th>fuel</th>\n",
       "      <th>odometer</th>\n",
       "      <th>title_status</th>\n",
       "      <th>transmission</th>\n",
       "      <th>drive</th>\n",
       "      <th>type</th>\n",
       "      <th>paint_color</th>\n",
       "      <th>state</th>\n",
       "      <th>vin</th>\n",
       "    </tr>\n",
       "  </thead>\n",
       "  <tbody>\n",
       "    <tr>\n",
       "      <td>49199</td>\n",
       "      <td>7045435316</td>\n",
       "      <td>sonata limited</td>\n",
       "      <td>4500</td>\n",
       "      <td>2007.0</td>\n",
       "      <td>hyundai</td>\n",
       "      <td>6 cylinders</td>\n",
       "      <td>gas</td>\n",
       "      <td>99000.0</td>\n",
       "      <td>clean</td>\n",
       "      <td>automatic</td>\n",
       "      <td>fwd</td>\n",
       "      <td>sedan</td>\n",
       "      <td>white</td>\n",
       "      <td>wy</td>\n",
       "      <td>5NPEU46F07H212259</td>\n",
       "    </tr>\n",
       "  </tbody>\n",
       "</table>\n",
       "</div>"
      ],
      "text/plain": [
       "               id           model  price    year manufacturer    cylinders  \\\n",
       "49199  7045435316  sonata limited   4500  2007.0      hyundai  6 cylinders   \n",
       "\n",
       "      fuel  odometer title_status transmission drive   type paint_color state  \\\n",
       "49199  gas   99000.0        clean    automatic   fwd  sedan       white    wy   \n",
       "\n",
       "                     vin  \n",
       "49199  5NPEU46F07H212259  "
      ]
     },
     "execution_count": 208,
     "metadata": {},
     "output_type": "execute_result"
    }
   ],
   "source": [
    "df_new[df_new.index == 49199]"
   ]
  },
  {
   "cell_type": "code",
   "execution_count": 163,
   "metadata": {},
   "outputs": [
    {
     "data": {
      "text/plain": [
       "0.7321428961915488"
      ]
     },
     "execution_count": 163,
     "metadata": {},
     "output_type": "execute_result"
    }
   ],
   "source": []
  }
 ],
 "metadata": {
  "kernelspec": {
   "display_name": "Python 3",
   "language": "python",
   "name": "python3"
  },
  "language_info": {
   "codemirror_mode": {
    "name": "ipython",
    "version": 3
   },
   "file_extension": ".py",
   "mimetype": "text/x-python",
   "name": "python",
   "nbconvert_exporter": "python",
   "pygments_lexer": "ipython3",
   "version": "3.7.4"
  }
 },
 "nbformat": 4,
 "nbformat_minor": 2
}
